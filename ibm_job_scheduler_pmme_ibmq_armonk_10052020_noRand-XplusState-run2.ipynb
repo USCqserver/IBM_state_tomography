{
 "cells": [
  {
   "cell_type": "markdown",
   "metadata": {},
   "source": [
    "# Pre-Run Setup"
   ]
  },
  {
   "cell_type": "markdown",
   "metadata": {},
   "source": [
    "### Import Libraries"
   ]
  },
  {
   "cell_type": "code",
   "execution_count": 1,
   "metadata": {
    "pycharm": {
     "is_executing": false
    }
   },
   "outputs": [
    {
     "name": "stderr",
     "output_type": "stream",
     "text": [
      "configrc.store_credentials:WARNING:2020-10-05 22:40:57,617: Credentials already present. Set overwrite=True to overwrite.\n"
     ]
    }
   ],
   "source": [
    "from qiskit import *\n",
    "import os\n",
    "import datetime\n",
    "import numpy as np\n",
    "from datetime import date\n",
    "#you have to load some account to start\n",
    "\n",
    "IBMQ.save_account('bc018d68b58612deebcfb4a7c0597a25f2ecc95a55b00aeb1b70092d643e4a5207079ec12346fa791f2ad8bf58d410305cb82b88531036335d634ef09446fff7')\n",
    "if(not IBMQ.active_account()):\n",
    "    IBMQ.load_account()"
   ]
  },
  {
   "cell_type": "markdown",
   "metadata": {},
   "source": [
    "### Specify the files that need to be run \n",
    "The old setup works with only one folder."
   ]
  },
  {
   "cell_type": "code",
   "execution_count": 2,
   "metadata": {
    "pycharm": {
     "is_executing": false
    }
   },
   "outputs": [
    {
     "name": "stdout",
     "output_type": "stream",
     "text": [
      "147\n",
      "../Circuits/ibmq_armonk/05102020/stateTomo_freeEvo_XplusState/stateTomo_freeEvo_XplusState_05102020_ibmq_armonk_numIdGates=0_XplusState_obsY.qasm\n",
      "../Circuits/ibmq_armonk/05102020/stateTomo_freeEvo_XplusState/stateTomo_freeEvo_XplusState_05102020_ibmq_armonk_numIdGates=0_XplusState_obsY.qasm\n",
      "../Circuits/ibmq_armonk/05102020/stateTomo_freeEvo_XplusState/stateTomo_freeEvo_XplusState_05102020_ibmq_armonk_numIdGates=0_XplusState_obsY.qasm\n",
      "../Circuits/ibmq_armonk/05102020/stateTomo_freeEvo_XplusState/stateTomo_freeEvo_XplusState_05102020_ibmq_armonk_numIdGates=0_XplusState_obsY.qasm\n",
      "../Circuits/ibmq_armonk/05102020/stateTomo_freeEvo_XplusState/stateTomo_freeEvo_XplusState_05102020_ibmq_armonk_numIdGates=0_XplusState_obsY.qasm\n",
      "../Circuits/ibmq_armonk/05102020/stateTomo_freeEvo_XplusState/stateTomo_freeEvo_XplusState_05102020_ibmq_armonk_numIdGates=0_XplusState_obsY.qasm\n"
     ]
    }
   ],
   "source": [
    "import glob\n",
    "from datetime import date\n",
    "circuitPath = r\"../Circuits/\"\n",
    "device = \"ibmq_armonk\"\n",
    "today = date.today()\n",
    "#datestr = today.strftime(\"%d%m%Y\")\n",
    "datestr = '05102020'\n",
    "runname = 'stateTomo_freeEvo_XplusState'\n",
    "\n",
    "qasmpath = circuitPath + device + '/' + datestr + '/' + runname +'/'\n",
    "qasmlist = glob.glob(qasmpath + 'stateTomo*.qasm')\n",
    "# sort by id gates\n",
    "qasmlist.sort(key=lambda x: int(x.split('/')[-1].split('_')[6].split('=')[-1]))\n",
    "print(len(qasmlist))\n",
    "for i in range(6):\n",
    "    f=qasmlist[0]\n",
    "    print(f)\n",
    "    QuantumCircuit().from_qasm_file(f).draw(output='mpl')"
   ]
  },
  {
   "cell_type": "code",
   "execution_count": 3,
   "metadata": {},
   "outputs": [
    {
     "name": "stdout",
     "output_type": "stream",
     "text": [
      "../Circuits/ibmq_armonk/05102020/stateTomo_freeEvo_XplusState/stateTomo_freeEvo_XplusState_05102020_ibmq_armonk_numIdGates=12_XplusState_obsX.qasm\n"
     ]
    },
    {
     "data": {
      "image/png": "[encoded data removed]",
      "text/plain": [
       "<Figure size 1618.18x325.08 with 1 Axes>"
      ]
     },
     "execution_count": 3,
     "metadata": {},
     "output_type": "execute_result"
    }
   ],
   "source": [
    "f=qasmlist[5]\n",
    "print(f)\n",
    "QuantumCircuit().from_qasm_file(f).draw(output='mpl')"
   ]
  },
  {
   "cell_type": "markdown",
   "metadata": {},
   "source": [
    "### truncate time"
   ]
  },
  {
   "cell_type": "code",
   "execution_count": 4,
   "metadata": {},
   "outputs": [
    {
     "name": "stdout",
     "output_type": "stream",
     "text": [
      "0\n",
      "['0', '24', '48', '72', '96', '120', '144', '168', '192', '216', '240', '264', '288', '312', '336', '360', '384', '408', '432', '456', '480', '504', '528', '552']\n"
     ]
    }
   ],
   "source": [
    "def get_time(filename):\n",
    "    idgate = filename.split('/')[-1].split('_')[6].split('=')[-1]\n",
    "    return idgate\n",
    "print(get_time(qasmlist[0]))\n",
    "times = list(set([int(get_time(x)) for x in qasmlist])) #remove duplicates\n",
    "times.sort()\n",
    "times_truncate = [str(t) for t in times if t<600] \n",
    "times_truncate = times_truncate[::2]\n",
    "times_truncate.pop(-1)\n",
    "print(times_truncate)"
   ]
  },
  {
   "cell_type": "code",
   "execution_count": 5,
   "metadata": {},
   "outputs": [],
   "source": [
    "truncate_qasm_list = []\n",
    "for time in times_truncate:\n",
    "    truncate_qasm_list += [f for f in qasmlist if get_time(f) == time]"
   ]
  },
  {
   "cell_type": "code",
   "execution_count": 6,
   "metadata": {},
   "outputs": [
    {
     "name": "stdout",
     "output_type": "stream",
     "text": [
      "2\n"
     ]
    }
   ],
   "source": [
    "meas_qasmlist = glob.glob(qasmpath + 'MeasError*.qasm')\n",
    "print(len(meas_qasmlist))\n",
    "truncate_qasm_list = meas_qasmlist + truncate_qasm_list"
   ]
  },
  {
   "cell_type": "markdown",
   "metadata": {},
   "source": [
    "### Specify API and Backend"
   ]
  },
  {
   "cell_type": "code",
   "execution_count": 7,
   "metadata": {
    "pycharm": {
     "is_executing": false,
     "name": "#%%\n"
    }
   },
   "outputs": [],
   "source": [
    "tokens = {'haimeng@usc.edu':'bc018d68b58612deebcfb4a7c0597a25f2ecc95a55b00aeb1b70092d643e4a5207079ec12346fa791f2ad8bf58d410305cb82b88531036335d634ef09446fff7',\n",
    "          'zhanghaimeng1994@gmail.com':'fa1d1dd820b8c41dca1f520f87d61fd0ac47781d41c29bd51a7073f50e45035c2d98dfd5c8c760b9986bf165e6f4a086525a150f409855aa1d63a7ee92ca1172',\n",
    "          'theireasychair@gmail.com':'cacd020d84df513852c6f59d4648e7f1e4e4d9c29f032306c60ab23dccf0d225d4c1fa6857c51a0c792e07b2a96d358e6494a23e7db64f20ece90b6eb06f5c85',\n",
    "          'theireasychair@icloud.com':'7a265cd47bf57c072146f15d1967eb165b9704352fc4e4736f2b4f64bb8ff2462be10301cc127739a5a7aa4333e07b52c304e6b452ddc6b15d9c5c2056ef2a13',\n",
    "          'jinweixu@stanford.edu':'6dbc2e530007ad4fcd44abccf232873db3589341cd9d728219c4c97ccc489be727ca3f46412e10a0292f124e895c0e5623471bb1d5c3f54b4eb3bdc9d90e5338'}"
   ]
  },
  {
   "cell_type": "markdown",
   "metadata": {},
   "source": [
    "This script checks for how many jobs are available per token."
   ]
  },
  {
   "cell_type": "code",
   "execution_count": null,
   "metadata": {
    "pycharm": {
     "is_executing": false
    }
   },
   "outputs": [],
   "source": [
    "tokensB = { \n",
    "'bbk.pokharel@gmail.com' :  '4c7ba9466e8d1bafc095fbc136f3e59b14e23457ae0883ca7e235347842acfe88ef14342aa83703f8a2def58b54dc0f1b7f963232f88248e6dc547c5e8ca3a65' ,\n",
    "'pokharel@usc.edu' : '21acf454868c89a86938ffcb6b17cc1236f783c6e340937ab3205598608408623893094770f403dd95ba758d9864ef2135eda8f381804787e15e8ab2aedd3ba3',\n",
    "'Matt 1' : '66a15e358a104a2680592d38599216911e752e373dec894b0f7196d80982e4ed14fd8337d9f10b49f1f4b98bcc7c651b2f2c150726914a3984214097fe70eb94',\n",
    "'Matt 2' : 'a4a855f0dd4e7f3d025718c244e182c9f9aa20d62579ac7b565e371fa36409a5c49ec64e18aa1c54e822e4a714a94a1751998121e068b569b5898c18b7f87f4f',\n",
    "    'Matt 3' : '0259e75023ad771da659fe35ccb6efa1c3f179511f31bca63701c4bffe40c2d856ccc092b01bf4d45cf179a10175c45143709cdcf59bdca5b8a3e2e14f3bf6af',\n",
    "    'Vinay 1': '31c2289f9d24c098baf2ba21c4534a0811dffaa2c3d350dad246528e0a3f10509253a7047a24e1eaa27fc71ef98954ec7adbbedece7fc422855abcd53a730049',\n",
    "    'Vinay 2' : 'be376bd6ecef35c8a887c42528263491dca319feee414e09929b3e60637e529a88d049aef61b835c811f362d21378885afb6b4d3af42c04033b2d6d243c03105',\n",
    "    'Vinay 3': '7540e0d1fe55966d0034885ad3b21c25793ae3e66fe71d143803a0db20cc7941fc5d128bba8bbafa5bf59fae83932c0691972aa901141071449d73e50127d59a',\n",
    "    'hiyanthi.peiris' : 'e993081e329ba581be46af6c2c739bfdc1c0fbca06081519157f238f8dbb636bfa783adfcbdc141fcd6bc03ed9e675b35d90cc34e8f81b19e3f04066d916e8af',\n",
    "    'peiris.pokharel' : '56e4e455625f6ad859b235b3821c1cc145124e0b66aaed5d07d07d27856ebe8a76e3f36128dad5c6eae8ad77babac60932cbb8b328c9c95138e70ac69711cc36'\n",
    "}"
   ]
  },
  {
   "cell_type": "code",
   "execution_count": 8,
   "metadata": {
    "pycharm": {
     "is_executing": false
    }
   },
   "outputs": [
    {
     "name": "stdout",
     "output_type": "stream",
     "text": [
      "5 jobs available for haimeng@usc.edu\n",
      "5 jobs available for zhanghaimeng1994@gmail.com\n",
      "5 jobs available for theireasychair@gmail.com\n",
      "5 jobs available for theireasychair@icloud.com\n",
      "1 jobs available for jinweixu@stanford.edu\n"
     ]
    }
   ],
   "source": [
    "#write the email address corresponding to each API, this will help when these APIs expire\n",
    "apiDict = tokens\n",
    "apiInv =dict(map(reversed, apiDict.items()))\n",
    "apitokens = list(apiDict.values())\n",
    "\n",
    "for token in apitokens:\n",
    "    IBMQ.disable_account() #Start with no account loaded\n",
    "    provider = IBMQ.enable_account(token) #Some account must be loaded before we start\n",
    "    backend = provider.backends.ibmq_armonk\n",
    "    available_jobs = backend.job_limit().maximum_jobs - backend.job_limit().active_jobs\n",
    "    print(f\"{available_jobs} jobs available for {apiInv[token]}\")\n",
    "\n"
   ]
  },
  {
   "cell_type": "code",
   "execution_count": 9,
   "metadata": {
    "pycharm": {
     "is_executing": false
    }
   },
   "outputs": [
    {
     "name": "stdout",
     "output_type": "stream",
     "text": [
      "75 8192\n"
     ]
    }
   ],
   "source": [
    "backend.configuration() #max_experiments=75, max_shots=8192\n",
    "max_experiments=backend.configuration().max_experiments\n",
    "max_shots=backend.configuration().max_shots\n",
    "print(max_experiments,max_shots)"
   ]
  },
  {
   "cell_type": "code",
   "execution_count": 10,
   "metadata": {},
   "outputs": [
    {
     "data": {
      "text/plain": [
       "74"
      ]
     },
     "execution_count": 10,
     "metadata": {},
     "output_type": "execute_result"
    }
   ],
   "source": [
    "len(truncate_qasm_list)"
   ]
  },
  {
   "cell_type": "markdown",
   "metadata": {},
   "source": [
    "### Chunk the files into Batches"
   ]
  },
  {
   "cell_type": "code",
   "execution_count": 11,
   "metadata": {
    "pycharm": {
     "is_executing": false
    }
   },
   "outputs": [
    {
     "data": {
      "text/plain": [
       "1"
      ]
     },
     "execution_count": 11,
     "metadata": {},
     "output_type": "execute_result"
    }
   ],
   "source": [
    "#We need to chunk the files, so that each usertoken,jobtoken is linked to batch of circuits\n",
    "\n",
    "def chunks(l, n):\n",
    "    \"\"\"Yield successive n-sized chunks from l.\"\"\"\n",
    "    for i in range(0, len(l), n):\n",
    "        yield l[i:i + n]\n",
    "        \n",
    "# batchFiles = list(chunks(truncate_qasm_list, 45))\n",
    "batchFiles = list(chunks(truncate_qasm_list, max_experiments))\n",
    "len(batchFiles)\n",
    "#number of jobs required to complete"
   ]
  },
  {
   "cell_type": "markdown",
   "metadata": {},
   "source": [
    "# Run the circuits"
   ]
  },
  {
   "cell_type": "markdown",
   "metadata": {},
   "source": [
    "### Function to import backend and token information during the runs"
   ]
  },
  {
   "cell_type": "code",
   "execution_count": 12,
   "metadata": {},
   "outputs": [],
   "source": [
    "runRecords = '../Data/records/info/' #information about each job is stored in this folder\n",
    "\n",
    "if not os.path.exists(os.path.dirname(runRecords)):\n",
    "    os.makedirs(os.path.dirname(runRecords))\n",
    "    \n",
    "def getProp(paramList):\n",
    "    return ','.join([str(x['value']) for x in paramList])\n",
    "\n",
    "\n",
    "def exportJobInfo(usertoken, jobid, filenames, backend):\n",
    "    global runRecords\n",
    "    now = datetime.datetime.now()\n",
    "    f= open(f\"{runRecords}{jobid}_{usertoken}.txt\",\"w+\")\n",
    "    f.write(\"TOKEN\\n\")\n",
    "    f.write(\"usertoken,jobid\\n\")\n",
    "    f.write(f\"{usertoken},{jobid}\\n\")\n",
    "    \n",
    "    backend_info = backend.properties().to_dict() \n",
    "    f.write(f\"BACKEND \\n{backend_info['backend_name']}\\n\")\n",
    "    f.write(backend_info['backend_version'] + '\\n')\n",
    "    f.write(backend_info['last_update_date'] + '\\n' )\n",
    "    \n",
    "    \n",
    "    f.write(\"GATES\\n\")\n",
    "#     print(backend_info['qubits'])\n",
    "    #get the name of all the gate parameters and the units for these parameters\n",
    "    f.write('name,' + ','.join([f\"{x['name']}_in_{x['unit']}\" for x in backend_info['gates'][0]['parameters'] ]) + '\\n')\n",
    "    \n",
    "    #now print them for each gate for the backend, this includes both 1 and 2 qubit gates\n",
    "    for gate in backend_info['gates']:\n",
    "        f.write(f\"{gate['name']},{getProp(gate['parameters'])}\"  + '\\n')\n",
    "    \n",
    "    f.write(\"QUBITS\\n\")\n",
    "    #get the name of all the gate parameters and the units for these parameters\n",
    "    f.write('number,' + ','.join([f\"{x['name']}_in_{x['unit']}\" for x in backend_info['qubits'][0]]) + '\\n')\n",
    "    for q in range(0, len(backend_info['qubits'])):\n",
    "        qubitProps = backend_info['qubits'][q]\n",
    "        f.write(f\"{q}, {getProp(qubitProps)}\"  + '\\n')\n",
    "\n",
    "    f.write(\"CIRCUITS\\n\")\n",
    "    for fname in filenames:\n",
    "        f.write(f\"{fname}\\n\")\n",
    "    f.close()\n",
    "    return None\n",
    "\n",
    "#test\n",
    "#exportJobInfo('a', 'c', batchFiles[0], backend)"
   ]
  },
  {
   "cell_type": "markdown",
   "metadata": {},
   "source": [
    "### Function to check for available tokens"
   ]
  },
  {
   "cell_type": "code",
   "execution_count": 13,
   "metadata": {},
   "outputs": [
    {
     "name": "stdout",
     "output_type": "stream",
     "text": [
      "1 jobs available for haimeng@usc.edu\n"
     ]
    },
    {
     "data": {
      "text/plain": [
       "'bc018d68b58612deebcfb4a7c0597a25f2ecc95a55b00aeb1b70092d643e4a5207079ec12346fa791f2ad8bf58d410305cb82b88531036335d634ef09446fff7'"
      ]
     },
     "execution_count": 13,
     "metadata": {},
     "output_type": "execute_result"
    }
   ],
   "source": [
    "\n",
    " \n",
    "#Select a available token to send the run to\n",
    "#With the current setup, loading and unloading a token takes sometime\n",
    "#sequentially check each token for availability will increase loadtime for tokens that are near the end\n",
    "#so given a list of tokens, everytime a job is sent to a token, that token will be sent to the end\n",
    "def availableToken():\n",
    "    global provider, backend, apitokens\n",
    "    token = apitokens[0]\n",
    "    available_jobs = backend.job_limit().maximum_jobs - backend.job_limit().active_jobs\n",
    "    if available_jobs > 0:\n",
    "        print(f'{available_jobs} jobs available for {apiInv[token]}')\n",
    "        return token\n",
    "\n",
    "    #if the first token has no availability then we will continue below\n",
    "    apitokens.append(apitokens.pop(0))\n",
    "    for token in apitokens:\n",
    "        IBMQ.disable_account() \n",
    "        provider = IBMQ.enable_account(token) \n",
    "        backend = provider.backends.ibmq_armonk\n",
    "        available_jobs = backend.job_limit().maximum_jobs - backend.job_limit().active_jobs\n",
    "        if available_jobs > 0:\n",
    "            print(f'{available_jobs} jobs available for {apiInv[token]}')\n",
    "            apitokens.insert(0, apitokens.pop(apitokens.index(token)))\n",
    "            return token\n",
    "\n",
    "availableToken()   \n",
    "      "
   ]
  },
  {
   "cell_type": "markdown",
   "metadata": {},
   "source": [
    "### Actually doing the runs"
   ]
  },
  {
   "cell_type": "code",
   "execution_count": 14,
   "metadata": {},
   "outputs": [],
   "source": [
    "#start with empty containers\n",
    "#dont run this block if you already have a list of runs you want to continue\n",
    "\n",
    "runDict = {} #matches each batch to the job token\n",
    "jobDict = {} #matches each batch to the entire job object\n",
    "jobsFound = set([]) #status is updated when checked\n",
    "jobsDone = set([])"
   ]
  },
  {
   "cell_type": "code",
   "execution_count": null,
   "metadata": {},
   "outputs": [],
   "source": [
    "apiDict = { \n",
    "'bbk.pokharel@gmail.com' :  '4c7ba9466e8d1bafc095fbc136f3e59b14e23457ae0883ca7e235347842acfe88ef14342aa83703f8a2def58b54dc0f1b7f963232f88248e6dc547c5e8ca3a65' ,\n",
    "'pokharel@usc.edu' : '21acf454868c89a86938ffcb6b17cc1236f783c6e340937ab3205598608408623893094770f403dd95ba758d9864ef2135eda8f381804787e15e8ab2aedd3ba3',\n",
    "'Matt 1' : '66a15e358a104a2680592d38599216911e752e373dec894b0f7196d80982e4ed14fd8337d9f10b49f1f4b98bcc7c651b2f2c150726914a3984214097fe70eb94',\n",
    "'Matt 2' : 'a4a855f0dd4e7f3d025718c244e182c9f9aa20d62579ac7b565e371fa36409a5c49ec64e18aa1c54e822e4a714a94a1751998121e068b569b5898c18b7f87f4f',\n",
    "    'Matt 3' : '0259e75023ad771da659fe35ccb6efa1c3f179511f31bca63701c4bffe40c2d856ccc092b01bf4d45cf179a10175c45143709cdcf59bdca5b8a3e2e14f3bf6af',\n",
    "    'Vinay 1': '31c2289f9d24c098baf2ba21c4534a0811dffaa2c3d350dad246528e0a3f10509253a7047a24e1eaa27fc71ef98954ec7adbbedece7fc422855abcd53a730049',\n",
    "    'Vinay 2' : 'be376bd6ecef35c8a887c42528263491dca319feee414e09929b3e60637e529a88d049aef61b835c811f362d21378885afb6b4d3af42c04033b2d6d243c03105',\n",
    "    'Vinay 3': '7540e0d1fe55966d0034885ad3b21c25793ae3e66fe71d143803a0db20cc7941fc5d128bba8bbafa5bf59fae83932c0691972aa901141071449d73e50127d59a',\n",
    "    'hiyanthi.peiris' : 'e993081e329ba581be46af6c2c739bfdc1c0fbca06081519157f238f8dbb636bfa783adfcbdc141fcd6bc03ed9e675b35d90cc34e8f81b19e3f04066d916e8af',\n",
    "    'peiris.pokharel' : '56e4e455625f6ad859b235b3821c1cc145124e0b66aaed5d07d07d27856ebe8a76e3f36128dad5c6eae8ad77babac60932cbb8b328c9c95138e70ac69711cc36'\n",
    "}"
   ]
  },
  {
   "cell_type": "code",
   "execution_count": 15,
   "metadata": {},
   "outputs": [
    {
     "name": "stdout",
     "output_type": "stream",
     "text": [
      "1 jobs available for haimeng@usc.edu\n",
      "JobStatus.VALIDATING\n",
      "Batch 0 has been sent\n",
      "{0: ['bc018d68b58612deebcfb4a7c0597a25f2ecc95a55b00aeb1b70092d643e4a5207079ec12346fa791f2ad8bf58d410305cb82b88531036335d634ef09446fff7', '5f7c039f9f257700132e1a32']}\n"
     ]
    }
   ],
   "source": [
    "#start runs\n",
    "#generally we want to run all the batchFiles, but we can also choose to run only some of them:\n",
    "#todoFiles = [batchFiles[3]]\n",
    "jobsNotFound = list(set(range(0, len(batchFiles))) - jobsFound)\n",
    "\n",
    "# todoFiles = batchFiles[0::]\n",
    "# for runFiles in todoFiles:\n",
    "for n in jobsNotFound[0::]:\n",
    "    try:\n",
    "        runFiles = batchFiles[n]\n",
    "        token = availableToken()\n",
    "\n",
    "        allQasmList = [QuantumCircuit.from_qasm_file(file) for file in runFiles] #this needs to edited if the batch files also contain directory\n",
    "        allCircuits= assemble(allQasmList, backend, shots=8192)\n",
    "\n",
    "        job_current = backend.run(allCircuits)\n",
    "        print(job_current.status())\n",
    "\n",
    "        runId = job_current.job_id()\n",
    "    #     runTokens.append(token)\n",
    "    #     runIds.append(runId)\n",
    "        runDict[batchFiles.index(runFiles)] = [token, runId] #note that the index still refers to the original batchFiles\n",
    "\n",
    "        #as retrieve job is not working temporarily I will save job_current in a dictionary as well\n",
    "        jobDict[batchFiles.index(runFiles)] = job_current\n",
    "        print(f\"Batch {batchFiles.index(runFiles)} has been sent\")\n",
    "\n",
    "        exportJobInfo(token, runId, batchFiles[0], backend)\n",
    "    except:\n",
    "        pass\n",
    "\n",
    "print(runDict)"
   ]
  },
  {
   "cell_type": "markdown",
   "metadata": {},
   "source": [
    "### Checking job status"
   ]
  },
  {
   "cell_type": "code",
   "execution_count": 18,
   "metadata": {},
   "outputs": [
    {
     "name": "stdout",
     "output_type": "stream",
     "text": [
      "|Batch| Q#  | Status\n",
      "| 000 | --- | DONE\n",
      "1 jobs found: {0}\n",
      "1 jobs done: {0}\n"
     ]
    }
   ],
   "source": [
    "# import sleep\n",
    "jobsNotDone = list(set(runDict.keys()) - jobsDone)\n",
    "\n",
    "def loadToken(token):\n",
    "    global provider, backend\n",
    "    if(not IBMQ.active_account()):\n",
    "        IBMQ.load_account()\n",
    "    IBMQ.disable_account() \n",
    "    provider = IBMQ.enable_account(token) \n",
    "    backend = provider.backends.ibmq_armonk\n",
    "    return None\n",
    "\n",
    "print(\"|Batch| Q#  | Status\")\n",
    "for job in jobsNotDone:\n",
    "    try:\n",
    "        [token, job_id] = runDict[job]\n",
    "        loadToken(token)\n",
    "        \n",
    "        #get job from dictionary instead of retrieve job as that function is broken for now\n",
    "#         job_data = backend.retrieve_job(job_id)\n",
    "        #alternatively get job from the jobDict\n",
    "        if job in jobDict:\n",
    "            job_data = jobDict[job]\n",
    "        else:\n",
    "            job_data = backend.retrieve_job(job_id)\n",
    "        #print(f\"Batch {job} is {job_data.status()}\")\n",
    "\n",
    "        jobsFound.add(job)\n",
    "        qno = '---'\n",
    "        if str(job_data.status()) == 'JobStatus.QUEUED':\n",
    "            #print(f'queue number is {job_data.queue_info().position}')\n",
    "            qno = str(job_data.queue_info().position).zfill(3)\n",
    "\n",
    "        if str(job_data.status()) == 'JobStatus.DONE':\n",
    "            jobsDone.add(job)\n",
    "            \n",
    "        st = str(job_data.status()).split('.')[1]\n",
    "        jno = str(job).zfill(3)\n",
    "        print(f'| {jno} | {qno} | {st}')\n",
    "    except:\n",
    "        pass\n",
    "\n",
    "print(f'{len(jobsFound)} jobs found: {jobsFound}')\n",
    "print(f'{len(jobsDone)} jobs done: {jobsDone}')\n",
    "# if some batches are showing network errors, run only those batches again\n",
    "# try, excess commands above force the loop to continue even when some batches show errors"
   ]
  },
  {
   "cell_type": "markdown",
   "metadata": {},
   "source": [
    "# Exporting Data (Run after jobs have completed)"
   ]
  },
  {
   "cell_type": "code",
   "execution_count": 19,
   "metadata": {},
   "outputs": [
    {
     "name": "stdout",
     "output_type": "stream",
     "text": [
      "../Circuits/ibmq_armonk/05102020/stateTomo_freeEvo_XplusState/MeasError_Mitigate_05102020_ibmq_armonk_ZplusState_obsZ.qasm\n",
      "../Circuits/ibmq_armonk/05102020/stateTomo_freeEvo_XplusState\n"
     ]
    },
    {
     "data": {
      "text/plain": [
       "'../Data/raw/ibmq_armonk/05102020/stateTomo_freeEvo_XplusState/run2/MeasError_Mitigate_05102020_ibmq_armonk_ZplusState_obsZ_5f7c039f9f257700132e1a32.txt'"
      ]
     },
     "execution_count": 19,
     "metadata": {},
     "output_type": "execute_result"
    }
   ],
   "source": [
    "filename = batchFiles[0][0]\n",
    "print(filename)\n",
    "print(os.path.dirname(filename))\n",
    "run = 2\n",
    "os.path.dirname(filename).replace('/Circuits/', '/Data/raw/') + f'/run{run}/' + os.path.basename(filename).split('.qasm')[0] + f'_{job_id}.txt'\n"
   ]
  },
  {
   "cell_type": "code",
   "execution_count": 20,
   "metadata": {},
   "outputs": [],
   "source": [
    "resultRecords = '../Data/records/results/'\n",
    "if not os.path.exists(resultRecords):\n",
    "        os.makedirs(resultRecords)\n",
    "\n",
    "#job results are returned a list of dictionaries and they will have the same order as the order of the files in that batch\n",
    "# filenames given here should also include the folder names as well\n",
    "def exportBatchJob(filenames, token, job_id):\n",
    "    loadToken(token)\n",
    "    #job_data = backend.retrieve_job(job_id)\n",
    "    if job in jobDict:\n",
    "        job_data = jobDict[job]\n",
    "        print('found token')\n",
    "    else:\n",
    "        job_data = backend.retrieve_job(job_id)\n",
    "    \n",
    "    with open(resultRecords + f'{job_id}_{token}_results.txt', 'w') as f:\n",
    "        f.write(str(job_data.result().to_dict()))\n",
    "    \n",
    "    for i in range(0, len(filenames)):\n",
    "        result = job_data.result().get_counts()[i]\n",
    "        exportResult(token, job_id, i, filenames[i], result)\n",
    "        \n",
    "        \n",
    "#results will be in the form of dictionary\n",
    "#filename here should also include the foldernames\n",
    "def exportResult(token, job_id, circNo, filename, result):\n",
    "#     print(filename)\n",
    "    directory = os.path.dirname(filename).replace('/Circuits/', '/Data/raw/') + f'/run{run}/'\n",
    "    file = directory + os.path.basename(filename).split('.qasm')[0] + f'_{job_id}.txt'\n",
    "    if not os.path.exists(os.path.dirname(file)):\n",
    "        os.makedirs(os.path.dirname(file))\n",
    "        \n",
    "    \n",
    "    with open(file, 'w') as f:\n",
    "            f.write(\"usertoken,jobid,circuit_number\\n\")\n",
    "            f.write(f\"{token},{job_id},{circNo}\\n\")\n",
    "            [f.write( '\"'+str(key)+'\"' + ',' + str(value) + '\\n') for key, value in result.items()]\n",
    "    return None\n",
    "\n",
    "\n"
   ]
  },
  {
   "cell_type": "code",
   "execution_count": 21,
   "metadata": {},
   "outputs": [
    {
     "name": "stdout",
     "output_type": "stream",
     "text": [
      "found token\n",
      "job 0 has been exported\n"
     ]
    }
   ],
   "source": [
    "# batchFilesFull = [ [ inputDir + f for f in batch] for batch in batchFiles] #this wont be necessary if the filename have dir\n",
    "for job in list(runDict.keys()):\n",
    "    if job in jobsDone:\n",
    "        [token, job_id] = runDict[job]\n",
    "    #     print(runDict[job])\n",
    "        exportBatchJob(batchFiles[job], token, job_id)\n",
    "        print(f\"job {job} has been exported\")"
   ]
  },
  {
   "cell_type": "code",
   "execution_count": null,
   "metadata": {},
   "outputs": [],
   "source": [
    "len(jobsDone)"
   ]
  }
 ],
 "metadata": {
  "kernelspec": {
   "display_name": "Python 3",
   "language": "python",
   "name": "python3"
  },
  "language_info": {
   "codemirror_mode": {
    "name": "ipython",
    "version": 3
   },
   "file_extension": ".py",
   "mimetype": "text/x-python",
   "name": "python",
   "nbconvert_exporter": "python",
   "pygments_lexer": "ipython3",
   "version": "3.7.7"
  },
  "pycharm": {
   "stem_cell": {
    "cell_type": "raw",
    "metadata": {
     "collapsed": false
    },
    "source": []
   }
  }
 },
 "nbformat": 4,
 "nbformat_minor": 4
}
