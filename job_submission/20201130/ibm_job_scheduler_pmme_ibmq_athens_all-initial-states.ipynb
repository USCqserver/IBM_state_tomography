{
 "cells": [
  {
   "cell_type": "markdown",
   "metadata": {},
   "source": [
    "# Pre-Run Setup"
   ]
  },
  {
   "cell_type": "markdown",
   "metadata": {},
   "source": [
    "### Import Libraries"
   ]
  },
  {
   "cell_type": "code",
   "execution_count": 1,
   "metadata": {},
   "outputs": [],
   "source": [
    "from qiskit import *\n",
    "import os\n",
    "import datetime\n",
    "import numpy as np\n",
    "from datetime import date\n",
    "import random\n",
    "import os"
   ]
  },
  {
   "cell_type": "code",
   "execution_count": null,
   "metadata": {},
   "outputs": [],
   "source": [
    "#you have to load some account to start\n",
    "if(not IBMQ.active_account()):\n",
    "    IBMQ.load_account()"
   ]
  },
  {
   "cell_type": "code",
   "execution_count": 8,
   "metadata": {},
   "outputs": [],
   "source": [
    "token0 = '316cca1ff42067b9901b6a9e90ca76496e76b4a73139954176c6fe31a45572fcd37089924cbe5c41edb96a9b4c0e92e44451ed350e2a7e45dc809d26cd752eed'\n",
    "provider = IBMQ.enable_account(token0)"
   ]
  },
  {
   "cell_type": "markdown",
   "metadata": {},
   "source": [
    "### Specify the files that need to be run \n",
    "The old setup works with only one folder."
   ]
  },
  {
   "cell_type": "code",
   "execution_count": 2,
   "metadata": {},
   "outputs": [],
   "source": [
    "def shuffle_qasms(qasmlist):\n",
    "    def get_time(filename):\n",
    "        idgate = filename.split('/')[-1].split('_')[7].split('=')[-1]\n",
    "        return idgate\n",
    "    print(get_time(qasmlist[0]))\n",
    "    times = list(set([get_time(x) for x in qasmlist])) #remove duplicates\n",
    "    times.sort()\n",
    "    print(times)\n",
    "    print('# of time instances=%d'%(len(times)))\n",
    "    random.shuffle(times) #randomize the timesteps\n",
    "    sorted_qasm_list = []\n",
    "    for time in times:\n",
    "        sorted_qasm_list += [f for f in qasmlist if get_time(f) == time]\n",
    "    return sorted_qasm_list"
   ]
  },
  {
   "cell_type": "code",
   "execution_count": 4,
   "metadata": {
    "pycharm": {
     "is_executing": false
    }
   },
   "outputs": [
    {
     "name": "stdout",
     "output_type": "stream",
     "text": [
      "72\n",
      "../../../Circuits/ibmq_athens/30112020/MeasAllFree_Q0_ZplusState_QS_ZplusState/MeasAllFree_Q0_ZplusState_QS_ZplusState_30112020_ibmq_athens_numIdGates=0_obsY.qasm\n",
      "athens\n",
      "['athens']\n",
      "# of time instances=1\n",
      "74\n",
      "72\n",
      "../../../Circuits/ibmq_athens/30112020/MeasMainqFree_Q0_XplusState_QS_ZplusState/MeasMainqFree_Q0_XplusState_QS_ZplusState_30112020_ibmq_athens_numIdGates=0_obsX.qasm\n",
      "athens\n",
      "['athens']\n",
      "# of time instances=1\n",
      "74\n",
      "72\n",
      "../../../Circuits/ibmq_athens/30112020/MeasMainqFree_Q0_ZplusState_QS_ZplusState/MeasMainqFree_Q0_ZplusState_QS_ZplusState_30112020_ibmq_athens_numIdGates=0_obsY.qasm\n",
      "athens\n",
      "['athens']\n",
      "# of time instances=1\n",
      "74\n",
      "72\n",
      "../../../Circuits/ibmq_athens/30112020/MeasAllFree_Q0_YminusState_QS_ZplusState/MeasAllFree_Q0_YminusState_QS_ZplusState_30112020_ibmq_athens_numIdGates=0_obsX.qasm\n",
      "athens\n",
      "['athens']\n",
      "# of time instances=1\n",
      "74\n",
      "72\n",
      "../../../Circuits/ibmq_athens/30112020/MeasAllFree_Q0_XplusState_QS_ZplusState/MeasAllFree_Q0_XplusState_QS_ZplusState_30112020_ibmq_athens_numIdGates=0_obsX.qasm\n",
      "athens\n",
      "['athens']\n",
      "# of time instances=1\n",
      "74\n",
      "72\n",
      "../../../Circuits/ibmq_athens/30112020/MeasAllFree_Q0_ZminusState_QS_ZplusState/MeasAllFree_Q0_ZminusState_QS_ZplusState_30112020_ibmq_athens_numIdGates=0_obsY.qasm\n",
      "athens\n",
      "['athens']\n",
      "# of time instances=1\n",
      "74\n",
      "72\n",
      "../../../Circuits/ibmq_athens/30112020/MeasAllFree_Q0_XminusState_QS_ZplusState/MeasAllFree_Q0_XminusState_QS_ZplusState_30112020_ibmq_athens_numIdGates=0_obsX.qasm\n",
      "athens\n",
      "['athens']\n",
      "# of time instances=1\n",
      "74\n",
      "72\n",
      "../../../Circuits/ibmq_athens/30112020/MeasMainqFree_Q0_XminusState_QS_ZplusState/MeasMainqFree_Q0_XminusState_QS_ZplusState_30112020_ibmq_athens_numIdGates=0_obsX.qasm\n",
      "athens\n",
      "['athens']\n",
      "# of time instances=1\n",
      "74\n",
      "72\n",
      "../../../Circuits/ibmq_athens/30112020/MeasMainqFree_Q0_YminusState_QS_ZplusState/MeasMainqFree_Q0_YminusState_QS_ZplusState_30112020_ibmq_athens_numIdGates=0_obsZ.qasm\n",
      "athens\n",
      "['athens']\n",
      "# of time instances=1\n",
      "74\n",
      "72\n",
      "../../../Circuits/ibmq_athens/30112020/MeasAllFree_Q0_YplusState_QS_ZplusState/MeasAllFree_Q0_YplusState_QS_ZplusState_30112020_ibmq_athens_numIdGates=0_obsZ.qasm\n",
      "athens\n",
      "['athens']\n",
      "# of time instances=1\n",
      "74\n",
      "72\n",
      "../../../Circuits/ibmq_athens/30112020/MeasMainqFree_Q0_ZminusState_QS_ZplusState/MeasMainqFree_Q0_ZminusState_QS_ZplusState_30112020_ibmq_athens_numIdGates=0_obsY.qasm\n",
      "athens\n",
      "['athens']\n",
      "# of time instances=1\n",
      "74\n",
      "72\n",
      "../../../Circuits/ibmq_athens/30112020/MeasMainqFree_Q0_YplusState_QS_ZplusState/MeasMainqFree_Q0_YplusState_QS_ZplusState_30112020_ibmq_athens_numIdGates=0_obsY.qasm\n",
      "athens\n",
      "['athens']\n",
      "# of time instances=1\n",
      "74\n"
     ]
    }
   ],
   "source": [
    "import glob\n",
    "from datetime import date\n",
    "circuitPath = r\"../../../Circuits\"\n",
    "device = \"ibmq_athens\"\n",
    "datestr = \"30112020\"\n",
    "runtypes = [f.name for f in os.scandir(circuitPath + '/' + device + '/' + datestr) if f.is_dir()]\n",
    "batchFiles = []\n",
    "\n",
    "for runtype in runtypes:\n",
    "    qasmpath = circuitPath + '/' + device + '/'+ datestr + '/' + runtype + '/'\n",
    "    qasmlist = glob.glob(qasmpath + '%s*.qasm'%(runtype.split('_')[0]))\n",
    "    # sort by id gates\n",
    "    qasmlist.sort(key=lambda x: int(x.split('/')[-1].split('_')[8].split('=')[-1]))\n",
    "    print(len(qasmlist))\n",
    "    f=qasmlist[0]\n",
    "    print(f)\n",
    "    QuantumCircuit().from_qasm_file(f).draw(output='mpl')\n",
    "    sorted_qasm_list = shuffle_qasms(qasmlist)\n",
    "    # add measurement error mitigation\n",
    "    meas_qasm = glob.glob(qasmpath + '%s*.qasm'%('MeasError'))\n",
    "    sorted_qasm_list += meas_qasm\n",
    "    print(len(sorted_qasm_list))\n",
    "    batchFiles += [sorted_qasm_list]"
   ]
  },
  {
   "cell_type": "code",
   "execution_count": 5,
   "metadata": {},
   "outputs": [
    {
     "name": "stdout",
     "output_type": "stream",
     "text": [
      "../../../Circuits/ibmq_athens/30112020/MeasMainqFree_Q0_YplusState_QS_ZplusState/MeasMainqFree_Q0_YplusState_QS_ZplusState_30112020_ibmq_athens_numIdGates=48_obsZ.qasm\n"
     ]
    },
    {
     "data": {
      "image/png": "[encoded data removed]",
      "text/plain": [
       "<Figure size 1683.19x1649.48 with 1 Axes>"
      ]
     },
     "execution_count": 5,
     "metadata": {},
     "output_type": "execute_result"
    }
   ],
   "source": [
    "f=qasmlist[5]\n",
    "print(f)\n",
    "QuantumCircuit().from_qasm_file(f).draw(output='mpl')"
   ]
  },
  {
   "cell_type": "code",
   "execution_count": 6,
   "metadata": {
    "pycharm": {
     "is_executing": false,
     "name": "#%%\n"
    }
   },
   "outputs": [],
   "source": [
    "tokens = {'haimeng@usc.edu':'316cca1ff42067b9901b6a9e90ca76496e76b4a73139954176c6fe31a45572fcd37089924cbe5c41edb96a9b4c0e92e44451ed350e2a7e45dc809d26cd752eed',\n",
    "          'zhanghaimeng1994@gmail.com':'fa1d1dd820b8c41dca1f520f87d61fd0ac47781d41c29bd51a7073f50e45035c2d98dfd5c8c760b9986bf165e6f4a086525a150f409855aa1d63a7ee92ca1172',\n",
    "          'theireasychair@gmail.com':'cacd020d84df513852c6f59d4648e7f1e4e4d9c29f032306c60ab23dccf0d225d4c1fa6857c51a0c792e07b2a96d358e6494a23e7db64f20ece90b6eb06f5c85',\n",
    "          'theireasychair@icloud.com':'7a265cd47bf57c072146f15d1967eb165b9704352fc4e4736f2b4f64bb8ff2462be10301cc127739a5a7aa4333e07b52c304e6b452ddc6b15d9c5c2056ef2a13',\n",
    "          'jinweixu@stanford.edu':'6dbc2e530007ad4fcd44abccf232873db3589341cd9d728219c4c97ccc489be727ca3f46412e10a0292f124e895c0e5623471bb1d5c3f54b4eb3bdc9d90e5338'}"
   ]
  },
  {
   "cell_type": "markdown",
   "metadata": {},
   "source": [
    "Here is a newer setup from Matthew that gets files from multiple folders."
   ]
  },
  {
   "cell_type": "markdown",
   "metadata": {},
   "source": [
    "### Specify API and Backend"
   ]
  },
  {
   "cell_type": "markdown",
   "metadata": {},
   "source": [
    "This script checks for how many jobs are available per token."
   ]
  },
  {
   "cell_type": "code",
   "execution_count": 9,
   "metadata": {},
   "outputs": [
    {
     "name": "stdout",
     "output_type": "stream",
     "text": [
      "5 jobs available for haimeng@usc.edu\n",
      "5 jobs available for zhanghaimeng1994@gmail.com\n",
      "5 jobs available for theireasychair@gmail.com\n",
      "5 jobs available for theireasychair@icloud.com\n",
      "5 jobs available for jinweixu@stanford.edu\n"
     ]
    }
   ],
   "source": [
    "#write the email address corresponding to each API, this will help when these APIs expire\n",
    "apiDict = tokens\n",
    "apiInv =dict(map(reversed, apiDict.items()))\n",
    "apitokens = list(apiDict.values())\n",
    "\n",
    "\n",
    "for token in apitokens:\n",
    "    IBMQ.disable_account() #Start with no account loaded\n",
    "    provider = IBMQ.enable_account(token) #Some account must be loaded before we start\n",
    "    backend = provider.backends.ibmq_athens\n",
    "    available_jobs = backend.job_limit().maximum_jobs - backend.job_limit().active_jobs\n",
    "    print(f\"{available_jobs} jobs available for {apiInv[token]}\")\n",
    "\n"
   ]
  },
  {
   "cell_type": "code",
   "execution_count": 10,
   "metadata": {},
   "outputs": [
    {
     "name": "stdout",
     "output_type": "stream",
     "text": [
      "75 8192\n"
     ]
    }
   ],
   "source": [
    "backend.configuration() #max_experiments=75, max_shots=8192\n",
    "max_experiments=backend.configuration().max_experiments\n",
    "max_shots=backend.configuration().max_shots\n",
    "print(max_experiments,max_shots)"
   ]
  },
  {
   "cell_type": "markdown",
   "metadata": {},
   "source": [
    "# Run the circuits"
   ]
  },
  {
   "cell_type": "markdown",
   "metadata": {},
   "source": [
    "### Function to import backend and token information during the runs"
   ]
  },
  {
   "cell_type": "code",
   "execution_count": 11,
   "metadata": {},
   "outputs": [
    {
     "name": "stdout",
     "output_type": "stream",
     "text": [
      "/home/haimeng/LocalProjects/IBM-PMME/IBM_data/job_submission/20201130\n"
     ]
    }
   ],
   "source": [
    "# print current working directory\n",
    "print(os.getcwd())"
   ]
  },
  {
   "cell_type": "code",
   "execution_count": 12,
   "metadata": {},
   "outputs": [],
   "source": [
    "runRecords = '../../../Data/records/info/' #information about each job is stored in this folder\n",
    "\n",
    "if not os.path.exists(os.path.dirname(runRecords)):\n",
    "    os.makedirs(os.path.dirname(runRecords))\n",
    "    \n",
    "def getProp(paramList):\n",
    "    return ','.join([str(x['value']) for x in paramList])\n",
    "\n",
    "\n",
    "def exportJobInfo(usertoken, jobid, filenames, backend):\n",
    "    global runRecords\n",
    "    now = datetime.datetime.now()\n",
    "    f= open(f\"{runRecords}{jobid}_{usertoken}.txt\",\"w+\")\n",
    "    f.write(\"TOKEN\\n\")\n",
    "    f.write(\"usertoken,jobid\\n\")\n",
    "    f.write(f\"{usertoken},{jobid}\\n\")\n",
    "    \n",
    "    backend_info = backend.properties().to_dict() \n",
    "    f.write(f\"BACKEND \\n{backend_info['backend_name']}\\n\")\n",
    "    f.write(backend_info['backend_version'] + '\\n')\n",
    "    f.write(backend_info['last_update_date'] + '\\n' )\n",
    "    \n",
    "    \n",
    "    f.write(\"GATES\\n\")\n",
    "#     print(backend_info['qubits'])\n",
    "    #get the name of all the gate parameters and the units for these parameters\n",
    "    f.write('name,' + ','.join([f\"{x['name']}_in_{x['unit']}\" for x in backend_info['gates'][0]['parameters'] ]) + '\\n')\n",
    "    \n",
    "    #now print them for each gate for the backend, this includes both 1 and 2 qubit gates\n",
    "    for gate in backend_info['gates']:\n",
    "        f.write(f\"{gate['name']},{getProp(gate['parameters'])}\"  + '\\n')\n",
    "    \n",
    "    f.write(\"QUBITS\\n\")\n",
    "    #get the name of all the gate parameters and the units for these parameters\n",
    "    f.write('number,' + ','.join([f\"{x['name']}_in_{x['unit']}\" for x in backend_info['qubits'][0]]) + '\\n')\n",
    "    for q in range(0, len(backend_info['qubits'])):\n",
    "        qubitProps = backend_info['qubits'][q]\n",
    "        f.write(f\"{q}, {getProp(qubitProps)}\"  + '\\n')\n",
    "\n",
    "    f.write(\"CIRCUITS\\n\")\n",
    "    for fname in filenames:\n",
    "        f.write(f\"{fname}\\n\")\n",
    "    f.close()\n",
    "    return None\n",
    "\n",
    "#test\n",
    "#exportJobInfo('a', 'c', batchFiles[0], backend)"
   ]
  },
  {
   "cell_type": "markdown",
   "metadata": {},
   "source": [
    "### Function to check for available tokens"
   ]
  },
  {
   "cell_type": "code",
   "execution_count": 13,
   "metadata": {},
   "outputs": [
    {
     "name": "stdout",
     "output_type": "stream",
     "text": [
      "5 jobs available for haimeng@usc.edu\n"
     ]
    },
    {
     "data": {
      "text/plain": [
       "'316cca1ff42067b9901b6a9e90ca76496e76b4a73139954176c6fe31a45572fcd37089924cbe5c41edb96a9b4c0e92e44451ed350e2a7e45dc809d26cd752eed'"
      ]
     },
     "execution_count": 13,
     "metadata": {},
     "output_type": "execute_result"
    }
   ],
   "source": [
    "\n",
    " \n",
    "#Select a available token to send the run to\n",
    "#With the current setup, loading and unloading a token takes sometime\n",
    "#sequentially check each token for availability will increase loadtime for tokens that are near the end\n",
    "#so given a list of tokens, everytime a job is sent to a token, that token will be sent to the end\n",
    "def availableToken():\n",
    "    global provider, backend, apitokens\n",
    "    token = apitokens[0]\n",
    "    available_jobs = backend.job_limit().maximum_jobs - backend.job_limit().active_jobs\n",
    "    if available_jobs > 1:\n",
    "        print(f'{available_jobs} jobs available for {apiInv[token]}')\n",
    "        return token\n",
    "\n",
    "    #if the first token has no availability then we will continue below\n",
    "    apitokens.append(apitokens.pop(0))\n",
    "    for token in apitokens:\n",
    "        IBMQ.disable_account() \n",
    "        provider = IBMQ.enable_account(token) \n",
    "        backend = provider.backends.ibmq_athens\n",
    "        available_jobs = backend.job_limit().maximum_jobs - backend.job_limit().active_jobs\n",
    "        if available_jobs > 1:\n",
    "            print(f'{available_jobs} jobs available for {apiInv[token]}')\n",
    "            apitokens.insert(0, apitokens.pop(apitokens.index(token)))\n",
    "            return token\n",
    "\n",
    "availableToken()   \n",
    "      "
   ]
  },
  {
   "cell_type": "markdown",
   "metadata": {},
   "source": [
    "### Actually doing the runs"
   ]
  },
  {
   "cell_type": "code",
   "execution_count": 14,
   "metadata": {},
   "outputs": [],
   "source": [
    "#start with empty containers\n",
    "#dont run this block if you already have a list of runs you want to continue\n",
    "\n",
    "runDict = {} #matches each batch to the job token\n",
    "jobDict = {} #matches each batch to the entire job object\n",
    "jobsFound = set([]) #status is updated when checked\n",
    "jobsDone = set([])"
   ]
  },
  {
   "cell_type": "code",
   "execution_count": 15,
   "metadata": {},
   "outputs": [
    {
     "name": "stdout",
     "output_type": "stream",
     "text": [
      "5 jobs available for haimeng@usc.edu\n",
      "JobStatus.VALIDATING\n",
      "Batch 0 has been sent\n",
      "4 jobs available for haimeng@usc.edu\n",
      "JobStatus.VALIDATING\n",
      "Batch 1 has been sent\n",
      "3 jobs available for haimeng@usc.edu\n",
      "JobStatus.VALIDATING\n",
      "Batch 2 has been sent\n",
      "2 jobs available for haimeng@usc.edu\n",
      "JobStatus.VALIDATING\n",
      "Batch 3 has been sent\n",
      "5 jobs available for zhanghaimeng1994@gmail.com\n",
      "JobStatus.VALIDATING\n",
      "Batch 4 has been sent\n",
      "4 jobs available for zhanghaimeng1994@gmail.com\n",
      "JobStatus.VALIDATING\n",
      "Batch 5 has been sent\n",
      "3 jobs available for zhanghaimeng1994@gmail.com\n",
      "JobStatus.VALIDATING\n",
      "Batch 6 has been sent\n",
      "2 jobs available for zhanghaimeng1994@gmail.com\n",
      "JobStatus.VALIDATING\n",
      "Batch 7 has been sent\n",
      "5 jobs available for theireasychair@gmail.com\n",
      "JobStatus.VALIDATING\n",
      "Batch 8 has been sent\n",
      "4 jobs available for theireasychair@gmail.com\n",
      "JobStatus.VALIDATING\n",
      "Batch 9 has been sent\n",
      "3 jobs available for theireasychair@gmail.com\n",
      "JobStatus.VALIDATING\n",
      "Batch 10 has been sent\n",
      "2 jobs available for theireasychair@gmail.com\n",
      "JobStatus.VALIDATING\n",
      "Batch 11 has been sent\n",
      "{0: ['316cca1ff42067b9901b6a9e90ca76496e76b4a73139954176c6fe31a45572fcd37089924cbe5c41edb96a9b4c0e92e44451ed350e2a7e45dc809d26cd752eed', '5fc5c34ce15c3b00192d56b4'], 1: ['316cca1ff42067b9901b6a9e90ca76496e76b4a73139954176c6fe31a45572fcd37089924cbe5c41edb96a9b4c0e92e44451ed350e2a7e45dc809d26cd752eed', '5fc5c37ad3dc27001a67659a'], 2: ['316cca1ff42067b9901b6a9e90ca76496e76b4a73139954176c6fe31a45572fcd37089924cbe5c41edb96a9b4c0e92e44451ed350e2a7e45dc809d26cd752eed', '5fc5c3a3d3b367001ad64382'], 3: ['316cca1ff42067b9901b6a9e90ca76496e76b4a73139954176c6fe31a45572fcd37089924cbe5c41edb96a9b4c0e92e44451ed350e2a7e45dc809d26cd752eed', '5fc5c3d0176371001a2232a1'], 4: ['fa1d1dd820b8c41dca1f520f87d61fd0ac47781d41c29bd51a7073f50e45035c2d98dfd5c8c760b9986bf165e6f4a086525a150f409855aa1d63a7ee92ca1172', '5fc5c3fee15c3b00192d56b8'], 5: ['fa1d1dd820b8c41dca1f520f87d61fd0ac47781d41c29bd51a7073f50e45035c2d98dfd5c8c760b9986bf165e6f4a086525a150f409855aa1d63a7ee92ca1172', '5fc5c42f45902b00198452ec'], 6: ['fa1d1dd820b8c41dca1f520f87d61fd0ac47781d41c29bd51a7073f50e45035c2d98dfd5c8c760b9986bf165e6f4a086525a150f409855aa1d63a7ee92ca1172', '5fc5c45891a1fb001b18a347'], 7: ['fa1d1dd820b8c41dca1f520f87d61fd0ac47781d41c29bd51a7073f50e45035c2d98dfd5c8c760b9986bf165e6f4a086525a150f409855aa1d63a7ee92ca1172', '5fc5c4856fe772001ae2dfa3'], 8: ['cacd020d84df513852c6f59d4648e7f1e4e4d9c29f032306c60ab23dccf0d225d4c1fa6857c51a0c792e07b2a96d358e6494a23e7db64f20ece90b6eb06f5c85', '5fc5c4b11dde84001b4cad10'], 9: ['cacd020d84df513852c6f59d4648e7f1e4e4d9c29f032306c60ab23dccf0d225d4c1fa6857c51a0c792e07b2a96d358e6494a23e7db64f20ece90b6eb06f5c85', '5fc5c4dd45902b00198452f1'], 10: ['cacd020d84df513852c6f59d4648e7f1e4e4d9c29f032306c60ab23dccf0d225d4c1fa6857c51a0c792e07b2a96d358e6494a23e7db64f20ece90b6eb06f5c85', '5fc5c506758a9f0019c442ac'], 11: ['cacd020d84df513852c6f59d4648e7f1e4e4d9c29f032306c60ab23dccf0d225d4c1fa6857c51a0c792e07b2a96d358e6494a23e7db64f20ece90b6eb06f5c85', '5fc5c535758a9f0019c442b1']}\n"
     ]
    }
   ],
   "source": [
    "#start runs\n",
    "#generally we want to run all the batchFiles, but we can also choose to run only some of them:\n",
    "#todoFiles = [batchFiles[3]]\n",
    "jobsNotFound = list(set(range(0, len(batchFiles))) - jobsFound)\n",
    "\n",
    "# todoFiles = batchFiles[0::]\n",
    "# for runFiles in todoFiles:\n",
    "for n in jobsNotFound[0::]:\n",
    "    try:\n",
    "        runFiles = batchFiles[n]\n",
    "        token = availableToken()\n",
    "\n",
    "        allQasmList = [QuantumCircuit.from_qasm_file(file) for file in runFiles] #this needs to edited if the batch files also contain directory\n",
    "        allCircuits= assemble(allQasmList, backend, shots=8192)\n",
    "\n",
    "        job_current = backend.run(allCircuits)\n",
    "        print(job_current.status())\n",
    "\n",
    "        runId = job_current.job_id()\n",
    "    #     runTokens.append(token)\n",
    "    #     runIds.append(runId)\n",
    "        runDict[batchFiles.index(runFiles)] = [token, runId] #note that the index still refers to the original batchFiles\n",
    "\n",
    "        #as retrieve job is not working temporarily I will save job_current in a dictionary as well\n",
    "        jobDict[batchFiles.index(runFiles)] = job_current\n",
    "        print(f\"Batch {batchFiles.index(runFiles)} has been sent\")\n",
    "\n",
    "        exportJobInfo(token, runId, batchFiles[0], backend)\n",
    "    except:\n",
    "        pass\n",
    "\n",
    "print(runDict)"
   ]
  },
  {
   "cell_type": "markdown",
   "metadata": {},
   "source": [
    "### Checking job status"
   ]
  },
  {
   "cell_type": "code",
   "execution_count": 19,
   "metadata": {},
   "outputs": [
    {
     "name": "stdout",
     "output_type": "stream",
     "text": [
      "|Batch| Q#  | Status\n",
      "| 011 | --- | DONE\n",
      "12 jobs found: {0, 1, 2, 3, 4, 5, 6, 7, 8, 9, 10, 11}\n",
      "12 jobs done: {0, 1, 2, 3, 4, 5, 6, 7, 8, 9, 10, 11}\n"
     ]
    }
   ],
   "source": [
    "# import sleep\n",
    "jobsNotDone = list(set(runDict.keys()) - jobsDone)\n",
    "\n",
    "def loadToken(token):\n",
    "    global provider, backend\n",
    "    if(not IBMQ.active_account()):\n",
    "        IBMQ.load_account()\n",
    "    IBMQ.disable_account() \n",
    "    provider = IBMQ.enable_account(token) \n",
    "    backend = provider.backends.ibmq_athens\n",
    "    return None\n",
    "\n",
    "print(\"|Batch| Q#  | Status\")\n",
    "for job in jobsNotDone:\n",
    "    try:\n",
    "        [token, job_id] = runDict[job]\n",
    "        loadToken(token)\n",
    "        \n",
    "        #get job from dictionary instead of retrieve job as that function is broken for now\n",
    "#         job_data = backend.retrieve_job(job_id)\n",
    "        #alternatively get job from the jobDict\n",
    "        if job in jobDict:\n",
    "            job_data = jobDict[job]\n",
    "        else:\n",
    "            job_data = backend.retrieve_job(job_id)\n",
    "        #print(f\"Batch {job} is {job_data.status()}\")\n",
    "\n",
    "        jobsFound.add(job)\n",
    "        qno = '---'\n",
    "        if str(job_data.status()) == 'JobStatus.QUEUED':\n",
    "            #print(f'queue number is {job_data.queue_info().position}')\n",
    "            qno = str(job_data.queue_info().position).zfill(3)\n",
    "\n",
    "        if str(job_data.status()) == 'JobStatus.DONE':\n",
    "            jobsDone.add(job)\n",
    "            \n",
    "        st = str(job_data.status()).split('.')[1]\n",
    "        jno = str(job).zfill(3)\n",
    "        print(f'| {jno} | {qno} | {st}')\n",
    "    except:\n",
    "        pass\n",
    "\n",
    "print(f'{len(jobsFound)} jobs found: {jobsFound}')\n",
    "print(f'{len(jobsDone)} jobs done: {jobsDone}')\n",
    "# if some batches are showing network errors, run only those batches again\n",
    "# try, excess commands above force the loop to continue even when some batches show errors"
   ]
  },
  {
   "cell_type": "markdown",
   "metadata": {},
   "source": [
    "# Exporting Data (Run after jobs have completed)"
   ]
  },
  {
   "cell_type": "code",
   "execution_count": 20,
   "metadata": {},
   "outputs": [
    {
     "name": "stdout",
     "output_type": "stream",
     "text": [
      "../../../Circuits/ibmq_athens/30112020/MeasAllFree_Q0_ZplusState_QS_ZplusState/MeasAllFree_Q0_ZplusState_QS_ZplusState_30112020_ibmq_athens_numIdGates=0_obsY.qasm\n",
      "../../../Circuits/ibmq_athens/30112020/MeasAllFree_Q0_ZplusState_QS_ZplusState\n"
     ]
    },
    {
     "data": {
      "text/plain": [
       "'../../../Data/raw/ibmq_athens/30112020/MeasAllFree_Q0_ZplusState_QS_ZplusState/run1/MeasAllFree_Q0_ZplusState_QS_ZplusState_30112020_ibmq_athens_numIdGates=0_obsY_5fc5c535758a9f0019c442b1.txt'"
      ]
     },
     "execution_count": 20,
     "metadata": {},
     "output_type": "execute_result"
    }
   ],
   "source": [
    "filename = batchFiles[0][0]\n",
    "print(filename)\n",
    "print(os.path.dirname(filename))\n",
    "run = 1\n",
    "os.path.dirname(filename).replace('/Circuits/', '/Data/raw/') + f'/run{run}/' + os.path.basename(filename).split('.qasm')[0] + f'_{job_id}.txt'\n"
   ]
  },
  {
   "cell_type": "code",
   "execution_count": 21,
   "metadata": {},
   "outputs": [],
   "source": [
    "resultRecords = '../../Data/records/results/'\n",
    "if not os.path.exists(resultRecords):\n",
    "        os.makedirs(resultRecords)\n",
    "\n",
    "#job results are returned a list of dictionaries and they will have the same order as the order of the files in that batch\n",
    "# filenames given here should also include the folder names as well\n",
    "def exportBatchJob(filenames, token, job_id):\n",
    "    loadToken(token)\n",
    "    #job_data = backend.retrieve_job(job_id)\n",
    "    if job in jobDict:\n",
    "        job_data = jobDict[job]\n",
    "        print('found token')\n",
    "    else:\n",
    "        job_data = backend.retrieve_job(job_id)\n",
    "    \n",
    "    with open(resultRecords + f'{job_id}_{token}_results.txt', 'w') as f:\n",
    "        f.write(str(job_data.result().to_dict()))\n",
    "    \n",
    "    for i in range(0, len(filenames)):\n",
    "        result = job_data.result().get_counts()[i]\n",
    "        exportResult(token, job_id, i, filenames[i], result)\n",
    "        \n",
    "        \n",
    "#results will be in the form of dictionary\n",
    "#filename here should also include the foldernames\n",
    "def exportResult(token, job_id, circNo, filename, result):\n",
    "#     print(filename)\n",
    "    directory = os.path.dirname(filename).replace('/Circuits/', '/Data/raw/') + f'/run{run}/'\n",
    "    file = directory + os.path.basename(filename).split('.qasm')[0] + f'_{job_id}.txt'\n",
    "    if not os.path.exists(os.path.dirname(file)):\n",
    "        os.makedirs(os.path.dirname(file))\n",
    "        \n",
    "    \n",
    "    with open(file, 'w') as f:\n",
    "            f.write(\"usertoken,jobid,circuit_number\\n\")\n",
    "            f.write(f\"{token},{job_id},{circNo}\\n\")\n",
    "            [f.write( '\"'+str(key)+'\"' + ',' + str(value) + '\\n') for key, value in result.items()]\n",
    "    return None\n",
    "\n",
    "\n"
   ]
  },
  {
   "cell_type": "code",
   "execution_count": 22,
   "metadata": {},
   "outputs": [
    {
     "name": "stdout",
     "output_type": "stream",
     "text": [
      "found token\n",
      "job 0 has been exported\n",
      "found token\n",
      "job 1 has been exported\n",
      "found token\n",
      "job 2 has been exported\n",
      "found token\n",
      "job 3 has been exported\n",
      "found token\n",
      "job 4 has been exported\n",
      "found token\n",
      "job 5 has been exported\n",
      "found token\n",
      "job 6 has been exported\n",
      "found token\n",
      "job 7 has been exported\n",
      "found token\n",
      "job 8 has been exported\n",
      "found token\n",
      "job 9 has been exported\n",
      "found token\n",
      "job 10 has been exported\n",
      "found token\n",
      "job 11 has been exported\n"
     ]
    }
   ],
   "source": [
    "# batchFilesFull = [ [ inputDir + f for f in batch] for batch in batchFiles] #this wont be necessary if the filename have dir\n",
    "for job in list(runDict.keys()):\n",
    "    [token, job_id] = runDict[job]\n",
    "#     print(runDict[job])\n",
    "    exportBatchJob(batchFiles[job], token, job_id)\n",
    "    print(f\"job {job} has been exported\")"
   ]
  }
 ],
 "metadata": {
  "kernelspec": {
   "display_name": "Python 3",
   "language": "python",
   "name": "python3"
  },
  "language_info": {
   "codemirror_mode": {
    "name": "ipython",
    "version": 3
   },
   "file_extension": ".py",
   "mimetype": "text/x-python",
   "name": "python",
   "nbconvert_exporter": "python",
   "pygments_lexer": "ipython3",
   "version": "3.7.7"
  }
 },
 "nbformat": 4,
 "nbformat_minor": 4
}
