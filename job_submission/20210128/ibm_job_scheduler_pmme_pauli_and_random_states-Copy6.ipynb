{
 "cells": [
  {
   "cell_type": "markdown",
   "metadata": {},
   "source": [
    "# Pre-Run Setup"
   ]
  },
  {
   "cell_type": "markdown",
   "metadata": {},
   "source": [
    "### Import Libraries"
   ]
  },
  {
   "cell_type": "code",
   "execution_count": 8,
   "metadata": {},
   "outputs": [],
   "source": [
    "from qiskit import *\n",
    "import os\n",
    "import datetime\n",
    "import numpy as np\n",
    "from datetime import date\n",
    "#you have to load some account to start\n"
   ]
  },
  {
   "cell_type": "code",
   "execution_count": 9,
   "metadata": {},
   "outputs": [],
   "source": [
    "import random\n",
    "import os"
   ]
  },
  {
   "cell_type": "code",
   "execution_count": 11,
   "metadata": {},
   "outputs": [],
   "source": [
    "#IBMQ.disable_account() \n",
    "# IBMQ.disable_account()\n",
    "token0 = '316cca1ff42067b9901b6a9e90ca76496e76b4a73139954176c6fe31a45572fcd37089924cbe5c41edb96a9b4c0e92e44451ed350e2a7e45dc809d26cd752eed'\n",
    "provider = IBMQ.enable_account(token0)"
   ]
  },
  {
   "cell_type": "code",
   "execution_count": 12,
   "metadata": {},
   "outputs": [
    {
     "name": "stdout",
     "output_type": "stream",
     "text": [
      "0.00010835251932340382\n",
      "5.3517638263018267e-05\n",
      "0.00010581004938549914\n",
      "1.6678091229587116e-05\n",
      "6.701038811541635e-05\n",
      "3.787973391379032e-05\n",
      "7.828013367591535e-05\n",
      "1.409473712564431e-05\n",
      "0.00018037376935097765\n",
      "6.197398859857221e-05\n",
      "7.788062845590807e-05\n",
      "7.194717295165138e-05\n",
      "6.029139187001669e-05\n",
      "3.065701199746565e-05\n",
      "5.819131218755027e-05\n"
     ]
    },
    {
     "ename": "BackendPropertyError",
     "evalue": "\"Couldn't find the property 'T2' for qubit 15.\"",
     "output_type": "error",
     "traceback": [
      "\u001b[0;31m---------------------------------------------------------------------------\u001b[0m",
      "\u001b[0;31mKeyError\u001b[0m                                  Traceback (most recent call last)",
      "\u001b[0;32m~/anaconda3/envs/IBM_scheduler/lib/python3.7/site-packages/qiskit/providers/models/backendproperties.py\u001b[0m in \u001b[0;36mqubit_property\u001b[0;34m(self, qubit, name)\u001b[0m\n\u001b[1;32m    361\u001b[0m         \u001b[0;32mtry\u001b[0m\u001b[0;34m:\u001b[0m\u001b[0;34m\u001b[0m\u001b[0;34m\u001b[0m\u001b[0m\n\u001b[0;32m--> 362\u001b[0;31m             \u001b[0mresult\u001b[0m \u001b[0;34m=\u001b[0m \u001b[0mself\u001b[0m\u001b[0;34m.\u001b[0m\u001b[0m_qubits\u001b[0m\u001b[0;34m[\u001b[0m\u001b[0mqubit\u001b[0m\u001b[0;34m]\u001b[0m\u001b[0;34m\u001b[0m\u001b[0;34m\u001b[0m\u001b[0m\n\u001b[0m\u001b[1;32m    363\u001b[0m             \u001b[0;32mif\u001b[0m \u001b[0mname\u001b[0m \u001b[0;32mis\u001b[0m \u001b[0;32mnot\u001b[0m \u001b[0;32mNone\u001b[0m\u001b[0;34m:\u001b[0m\u001b[0;34m\u001b[0m\u001b[0;34m\u001b[0m\u001b[0m\n",
      "\u001b[0;31mKeyError\u001b[0m: 15",
      "\nDuring handling of the above exception, another exception occurred:\n",
      "\u001b[0;31mBackendPropertyError\u001b[0m                      Traceback (most recent call last)",
      "\u001b[0;32m<ipython-input-12-b2be6619107e>\u001b[0m in \u001b[0;36m<module>\u001b[0;34m\u001b[0m\n\u001b[1;32m      2\u001b[0m \u001b[0;32mfor\u001b[0m \u001b[0mi\u001b[0m \u001b[0;32min\u001b[0m \u001b[0mrange\u001b[0m\u001b[0;34m(\u001b[0m\u001b[0;36m16\u001b[0m\u001b[0;34m)\u001b[0m\u001b[0;34m:\u001b[0m\u001b[0;34m\u001b[0m\u001b[0;34m\u001b[0m\u001b[0m\n\u001b[1;32m      3\u001b[0m     \u001b[0mprop\u001b[0m \u001b[0;34m=\u001b[0m \u001b[0mbackend\u001b[0m\u001b[0;34m.\u001b[0m\u001b[0mproperties\u001b[0m\u001b[0;34m(\u001b[0m\u001b[0;34m)\u001b[0m\u001b[0;34m\u001b[0m\u001b[0;34m\u001b[0m\u001b[0m\n\u001b[0;32m----> 4\u001b[0;31m     \u001b[0mprint\u001b[0m\u001b[0;34m(\u001b[0m\u001b[0mprop\u001b[0m\u001b[0;34m.\u001b[0m\u001b[0mt2\u001b[0m\u001b[0;34m(\u001b[0m\u001b[0mi\u001b[0m\u001b[0;34m)\u001b[0m\u001b[0;34m)\u001b[0m\u001b[0;34m\u001b[0m\u001b[0;34m\u001b[0m\u001b[0m\n\u001b[0m",
      "\u001b[0;32m~/anaconda3/envs/IBM_scheduler/lib/python3.7/site-packages/qiskit/providers/models/backendproperties.py\u001b[0m in \u001b[0;36mt2\u001b[0;34m(self, qubit)\u001b[0m\n\u001b[1;32m    391\u001b[0m             \u001b[0mT2\u001b[0m \u001b[0mtime\u001b[0m \u001b[0mof\u001b[0m \u001b[0mthe\u001b[0m \u001b[0mgiven\u001b[0m \u001b[0mqubit\u001b[0m\u001b[0;34m.\u001b[0m\u001b[0;34m\u001b[0m\u001b[0;34m\u001b[0m\u001b[0m\n\u001b[1;32m    392\u001b[0m         \"\"\"\n\u001b[0;32m--> 393\u001b[0;31m         \u001b[0;32mreturn\u001b[0m \u001b[0mself\u001b[0m\u001b[0;34m.\u001b[0m\u001b[0mqubit_property\u001b[0m\u001b[0;34m(\u001b[0m\u001b[0mqubit\u001b[0m\u001b[0;34m,\u001b[0m \u001b[0;34m'T2'\u001b[0m\u001b[0;34m)\u001b[0m\u001b[0;34m[\u001b[0m\u001b[0;36m0\u001b[0m\u001b[0;34m]\u001b[0m  \u001b[0;31m# Throw away datetime at index 1\u001b[0m\u001b[0;34m\u001b[0m\u001b[0;34m\u001b[0m\u001b[0m\n\u001b[0m\u001b[1;32m    394\u001b[0m \u001b[0;34m\u001b[0m\u001b[0m\n\u001b[1;32m    395\u001b[0m     \u001b[0;32mdef\u001b[0m \u001b[0mfrequency\u001b[0m\u001b[0;34m(\u001b[0m\u001b[0mself\u001b[0m\u001b[0;34m,\u001b[0m \u001b[0mqubit\u001b[0m\u001b[0;34m:\u001b[0m \u001b[0mint\u001b[0m\u001b[0;34m)\u001b[0m \u001b[0;34m->\u001b[0m \u001b[0mfloat\u001b[0m\u001b[0;34m:\u001b[0m\u001b[0;34m\u001b[0m\u001b[0;34m\u001b[0m\u001b[0m\n",
      "\u001b[0;32m~/anaconda3/envs/IBM_scheduler/lib/python3.7/site-packages/qiskit/providers/models/backendproperties.py\u001b[0m in \u001b[0;36mqubit_property\u001b[0;34m(self, qubit, name)\u001b[0m\n\u001b[1;32m    366\u001b[0m             raise BackendPropertyError(\"Couldn't find the propert{name} for qubit \"\n\u001b[1;32m    367\u001b[0m                                        \"{qubit}.\".format(name=\"y '\" + name + \"'\" if name else \"ies\",\n\u001b[0;32m--> 368\u001b[0;31m                                                          qubit=qubit))\n\u001b[0m\u001b[1;32m    369\u001b[0m         \u001b[0;32mreturn\u001b[0m \u001b[0mresult\u001b[0m\u001b[0;34m\u001b[0m\u001b[0;34m\u001b[0m\u001b[0m\n\u001b[1;32m    370\u001b[0m \u001b[0;34m\u001b[0m\u001b[0m\n",
      "\u001b[0;31mBackendPropertyError\u001b[0m: \"Couldn't find the property 'T2' for qubit 15.\""
     ]
    }
   ],
   "source": [
    "backend = provider.backends.ibmq_16_melbourne\n",
    "for i in range(16):\n",
    "    prop = backend.properties()\n",
    "    print(prop.t2(i))"
   ]
  },
  {
   "cell_type": "markdown",
   "metadata": {},
   "source": [
    "### Specify the files that need to be run \n",
    "The old setup works with only one folder."
   ]
  },
  {
   "cell_type": "code",
   "execution_count": 6,
   "metadata": {},
   "outputs": [],
   "source": [
    "def shuffle_qasms(qasmlist):\n",
    "    def get_time(filename):\n",
    "        idgate = filename.split('/')[-1].split('_')[8].split('=')[-1]\n",
    "        return idgate\n",
    "    print(get_time(qasmlist[0]))\n",
    "    times = list(set([get_time(x) for x in qasmlist])) #remove duplicates\n",
    "    times.sort()\n",
    "    print('# of time instances=%d'%(len(times)))\n",
    "    random.shuffle(times) #randomize the timesteps\n",
    "    print(times)\n",
    "    sorted_qasm_list = []\n",
    "    for time in times:\n",
    "        sorted_qasm_list += [f for f in qasmlist if get_time(f) == time]\n",
    "    return sorted_qasm_list"
   ]
  },
  {
   "cell_type": "code",
   "execution_count": 8,
   "metadata": {},
   "outputs": [
    {
     "data": {
      "text/plain": [
       "['MeasMainqFree_Q1_XplusState_QS_ZplusState',\n",
       " 'MeasMainqFree_Q1_randomState0_QS_ZplusState',\n",
       " 'MeasMainqFree_Q1_XminusState_QS_ZplusState',\n",
       " 'MeasMainqFree_Q1_randomState1_QS_ZplusState',\n",
       " 'MeasMainqFree_Q1_YplusState_QS_ZplusState',\n",
       " 'MeasMainqFree_Q1_randomState2_QS_ZplusState',\n",
       " 'MeasMainqFree_Q1_YminusState_QS_ZplusState',\n",
       " 'MeasMainqFree_Q1_randomState3_QS_ZplusState',\n",
       " 'MeasMainqFree_Q1_XplusState_QS_ZplusState',\n",
       " 'MeasMainqFree_Q1_randomState4_QS_ZplusState']"
      ]
     },
     "execution_count": 8,
     "metadata": {},
     "output_type": "execute_result"
    }
   ],
   "source": [
    "import glob\n",
    "from datetime import date\n",
    "circuitPath = r\"../../../Circuits\"\n",
    "device = \"ibmq_santiago\"\n",
    "datestr = \"20210129\"\n",
    "runtypes = [f.name for f in os.scandir(circuitPath + '/' + device + '/' + datestr) if f.is_dir()]\n",
    "batchFiles = []\n",
    "\n",
    "runtypes_ordered = []\n",
    "PauliStates = ['XplusState', 'XminusState','YplusState', 'YminusState']\n",
    "randomStates = ['randomState%d'%(i) for i in range(5)]\n",
    "for i in range(5):\n",
    "    runtype = [item for item in runtypes if item.split('_')[2]==PauliStates[i%4]]\n",
    "    runtypes_ordered.append(runtype[0])\n",
    "    runtype = [item for item in runtypes if item.split('_')[2]==randomStates[i]]\n",
    "    runtypes_ordered.append(runtype[0])\n",
    "runtypes_ordered"
   ]
  },
  {
   "cell_type": "code",
   "execution_count": 9,
   "metadata": {
    "pycharm": {
     "is_executing": false
    }
   },
   "outputs": [
    {
     "name": "stdout",
     "output_type": "stream",
     "text": [
      "72\n",
      "../../../Circuits/ibmq_santiago/20210129/MeasMainqFree_Q1_XplusState_QS_ZplusState/MeasMainqFree_Q1_XplusState_QS_ZplusState_20210129_ibmq_santiago_numIdGates=0_obsY.qasm\n",
      "0\n",
      "# of time instances=24\n",
      "['1080', '936', '216', '288', '648', '1584', '72', '1368', '1152', '1224', '1656', '504', '864', '576', '1512', '792', '0', '720', '360', '1008', '432', '1296', '144', '1440']\n",
      "74\n",
      "72\n",
      "../../../Circuits/ibmq_santiago/20210129/MeasMainqFree_Q1_randomState0_QS_ZplusState/MeasMainqFree_Q1_randomState0_QS_ZplusState_20210129_ibmq_santiago_numIdGates=0_obsX.qasm\n",
      "0\n",
      "# of time instances=24\n",
      "['1512', '864', '1440', '0', '1008', '72', '1296', '1656', '216', '432', '1080', '576', '1224', '1368', '1152', '792', '360', '288', '144', '720', '648', '936', '504', '1584']\n",
      "74\n",
      "72\n",
      "../../../Circuits/ibmq_santiago/20210129/MeasMainqFree_Q1_XminusState_QS_ZplusState/MeasMainqFree_Q1_XminusState_QS_ZplusState_20210129_ibmq_santiago_numIdGates=0_obsX.qasm\n",
      "0\n",
      "# of time instances=24\n",
      "['648', '792', '72', '1512', '360', '720', '1368', '1080', '432', '1584', '1296', '504', '216', '864', '1152', '0', '576', '1440', '936', '288', '1224', '1008', '1656', '144']\n",
      "74\n",
      "72\n",
      "../../../Circuits/ibmq_santiago/20210129/MeasMainqFree_Q1_randomState1_QS_ZplusState/MeasMainqFree_Q1_randomState1_QS_ZplusState_20210129_ibmq_santiago_numIdGates=0_obsZ.qasm\n",
      "0\n",
      "# of time instances=24\n",
      "['432', '288', '1224', '936', '648', '1368', '720', '1656', '864', '576', '144', '0', '1512', '1296', '1008', '1584', '72', '216', '360', '504', '1152', '1440', '792', '1080']\n",
      "74\n",
      "72\n",
      "../../../Circuits/ibmq_santiago/20210129/MeasMainqFree_Q1_YplusState_QS_ZplusState/MeasMainqFree_Q1_YplusState_QS_ZplusState_20210129_ibmq_santiago_numIdGates=0_obsX.qasm\n",
      "0\n",
      "# of time instances=24\n",
      "['720', '576', '936', '0', '72', '1584', '1656', '288', '1152', '360', '1008', '1440', '648', '1080', '504', '216', '1296', '1512', '144', '864', '1368', '792', '432', '1224']\n",
      "74\n",
      "72\n",
      "../../../Circuits/ibmq_santiago/20210129/MeasMainqFree_Q1_randomState2_QS_ZplusState/MeasMainqFree_Q1_randomState2_QS_ZplusState_20210129_ibmq_santiago_numIdGates=0_obsZ.qasm\n",
      "0\n",
      "# of time instances=24\n",
      "['1512', '360', '1656', '864', '792', '1080', '576', '0', '432', '936', '1440', '720', '504', '72', '1368', '288', '648', '1152', '1008', '216', '1584', '144', '1224', '1296']\n",
      "74\n",
      "72\n",
      "../../../Circuits/ibmq_santiago/20210129/MeasMainqFree_Q1_YminusState_QS_ZplusState/MeasMainqFree_Q1_YminusState_QS_ZplusState_20210129_ibmq_santiago_numIdGates=0_obsY.qasm\n",
      "0\n",
      "# of time instances=24\n",
      "['648', '1080', '720', '936', '1584', '1368', '1224', '288', '1512', '1152', '864', '1440', '792', '1656', '360', '144', '72', '1008', '216', '432', '1296', '576', '504', '0']\n",
      "74\n",
      "72\n",
      "../../../Circuits/ibmq_santiago/20210129/MeasMainqFree_Q1_randomState3_QS_ZplusState/MeasMainqFree_Q1_randomState3_QS_ZplusState_20210129_ibmq_santiago_numIdGates=0_obsX.qasm\n",
      "0\n",
      "# of time instances=24\n",
      "['792', '0', '936', '648', '1296', '1152', '1584', '1368', '360', '504', '144', '1440', '1008', '864', '720', '72', '1224', '216', '576', '432', '1656', '1080', '1512', '288']\n",
      "74\n",
      "72\n",
      "../../../Circuits/ibmq_santiago/20210129/MeasMainqFree_Q1_XplusState_QS_ZplusState/MeasMainqFree_Q1_XplusState_QS_ZplusState_20210129_ibmq_santiago_numIdGates=0_obsY.qasm\n",
      "0\n",
      "# of time instances=24\n",
      "['1080', '1152', '1584', '936', '1296', '1368', '1440', '1224', '504', '576', '0', '1512', '648', '1656', '288', '792', '360', '1008', '720', '216', '864', '432', '144', '72']\n",
      "74\n",
      "72\n",
      "../../../Circuits/ibmq_santiago/20210129/MeasMainqFree_Q1_randomState4_QS_ZplusState/MeasMainqFree_Q1_randomState4_QS_ZplusState_20210129_ibmq_santiago_numIdGates=0_obsY.qasm\n",
      "0\n",
      "# of time instances=24\n",
      "['1080', '1296', '72', '1584', '144', '288', '1224', '720', '1656', '216', '432', '0', '1440', '648', '576', '1152', '936', '360', '1368', '504', '792', '864', '1008', '1512']\n",
      "74\n"
     ]
    }
   ],
   "source": [
    "for runtype in runtypes_ordered:\n",
    "    qasmpath = circuitPath + '/' + device + '/'+ datestr + '/' + runtype + '/'\n",
    "    qasmlist = glob.glob(qasmpath + '%s*.qasm'%(runtype.split('_')[0]))\n",
    "    # sort by id gates\n",
    "    qasmlist.sort(key=lambda x: int(x.split('/')[-1].split('_')[8].split('=')[-1]))\n",
    "    print(len(qasmlist))\n",
    "    f=qasmlist[0]\n",
    "    print(f)\n",
    "    QuantumCircuit().from_qasm_file(f).draw(output='mpl')\n",
    "    sorted_qasm_list = shuffle_qasms(qasmlist)\n",
    "    # add measurement error mitigation\n",
    "    meas_qasm = glob.glob(qasmpath + '%s*.qasm'%('MeasError'))\n",
    "    sorted_qasm_list += meas_qasm\n",
    "    print(len(sorted_qasm_list))\n",
    "    batchFiles += [sorted_qasm_list]"
   ]
  },
  {
   "cell_type": "code",
   "execution_count": 2,
   "metadata": {},
   "outputs": [
    {
     "ename": "NameError",
     "evalue": "name 'batchFiles' is not defined",
     "output_type": "error",
     "traceback": [
      "\u001b[0;31m---------------------------------------------------------------------------\u001b[0m",
      "\u001b[0;31mNameError\u001b[0m                                 Traceback (most recent call last)",
      "\u001b[0;32m<ipython-input-2-35a75958d19a>\u001b[0m in \u001b[0;36m<module>\u001b[0;34m\u001b[0m\n\u001b[0;32m----> 1\u001b[0;31m \u001b[0mlen\u001b[0m\u001b[0;34m(\u001b[0m\u001b[0mbatchFiles\u001b[0m\u001b[0;34m)\u001b[0m\u001b[0;34m\u001b[0m\u001b[0;34m\u001b[0m\u001b[0m\n\u001b[0m",
      "\u001b[0;31mNameError\u001b[0m: name 'batchFiles' is not defined"
     ]
    }
   ],
   "source": [
    "len(batchFiles)"
   ]
  },
  {
   "cell_type": "code",
   "execution_count": 11,
   "metadata": {},
   "outputs": [
    {
     "name": "stdout",
     "output_type": "stream",
     "text": [
      "../../../Circuits/ibmq_santiago/20210129/MeasMainqFree_Q1_randomState4_QS_ZplusState/MeasMainqFree_Q1_randomState4_QS_ZplusState_20210129_ibmq_santiago_numIdGates=72_obsZ.qasm\n"
     ]
    },
    {
     "data": {
      "image/png": "[encoded data removed]",
      "text/plain": [
       "<Figure size 1683.19x2492.28 with 1 Axes>"
      ]
     },
     "execution_count": 11,
     "metadata": {},
     "output_type": "execute_result"
    }
   ],
   "source": [
    "f=qasmlist[5]\n",
    "print(f)\n",
    "QuantumCircuit().from_qasm_file(f).draw(output='mpl')"
   ]
  },
  {
   "cell_type": "code",
   "execution_count": 12,
   "metadata": {},
   "outputs": [
    {
     "name": "stdout",
     "output_type": "stream",
     "text": [
      "XplusState\n",
      "randomState0\n",
      "XminusState\n",
      "randomState1\n",
      "YplusState\n",
      "randomState2\n",
      "YminusState\n",
      "randomState3\n",
      "XplusState\n",
      "randomState4\n"
     ]
    }
   ],
   "source": [
    "for i in range(10):\n",
    "    print(batchFiles[i][0].split('/')[-1].split('_')[2])"
   ]
  },
  {
   "cell_type": "code",
   "execution_count": 13,
   "metadata": {
    "pycharm": {
     "is_executing": false,
     "name": "#%%\n"
    }
   },
   "outputs": [],
   "source": [
    "tokens = {'haimeng@usc.edu':'316cca1ff42067b9901b6a9e90ca76496e76b4a73139954176c6fe31a45572fcd37089924cbe5c41edb96a9b4c0e92e44451ed350e2a7e45dc809d26cd752eed',\n",
    "          'zhanghaimeng1994@gmail.com':'3513ac2a5100793f7e44bf520ad54b2d7bb68da03cd0f410a3bea14853644e1841de6ce86fbee2a750f814f032584d002f601fe25360b446f81339ba3a957eed',\n",
    "          'theireasychair@gmail.com':'c59327488ff0575f9fcafd3f8d8ad627a1574fcf130508ac0314f08af78afc5cc5787acd7527140cb8aeacceaf4eaf82960785df5636991287d4f086db3b7229',\n",
    "          'theireasychair@icloud.com':'e009883c3a103e728b741783f67d8586a37c0de04447151aa9493d13b3e76518f135424c482d9be2ef02759194085c8dce0db926f392ef5caa5b66f2843025a3',\n",
    "          'jinweixu@stanford.edu':'21a7ae9539b78959e11dcc1383c5691767f36b13d5d8efa01e515b76714b796903c19a61537adf98583e1cb04e4ee2584c6ba5f632b9a16cb8ad80cc6ce90ba7'}"
   ]
  },
  {
   "cell_type": "markdown",
   "metadata": {},
   "source": [
    "### Specify API and Backend"
   ]
  },
  {
   "cell_type": "markdown",
   "metadata": {},
   "source": [
    "This script checks for how many jobs are available per token."
   ]
  },
  {
   "cell_type": "code",
   "execution_count": 15,
   "metadata": {},
   "outputs": [
    {
     "name": "stdout",
     "output_type": "stream",
     "text": [
      "5 jobs available for haimeng@usc.edu\n",
      "5 jobs available for zhanghaimeng1994@gmail.com\n",
      "5 jobs available for theireasychair@gmail.com\n",
      "5 jobs available for theireasychair@icloud.com\n",
      "5 jobs available for jinweixu@stanford.edu\n"
     ]
    }
   ],
   "source": [
    "#write the email address corresponding to each API, this will help when these APIs expire\n",
    "apiDict = tokens\n",
    "apiInv =dict(map(reversed, apiDict.items()))\n",
    "apitokens = list(apiDict.values())\n",
    "\n",
    "\n",
    "for token in apitokens:\n",
    "    IBMQ.disable_account() #Start with no account loaded\n",
    "    provider = IBMQ.enable_account(token) #Some account must be loaded before we start\n",
    "    backend = provider.backends.ibmq_santiago\n",
    "    available_jobs = backend.job_limit().maximum_jobs - backend.job_limit().active_jobs\n",
    "    print(f\"{available_jobs} jobs available for {apiInv[token]}\")\n",
    "\n"
   ]
  },
  {
   "cell_type": "code",
   "execution_count": 16,
   "metadata": {},
   "outputs": [
    {
     "name": "stdout",
     "output_type": "stream",
     "text": [
      "75 8192\n"
     ]
    }
   ],
   "source": [
    "backend.configuration() #max_experiments=75, max_shots=8192\n",
    "max_experiments=backend.configuration().max_experiments\n",
    "max_shots=backend.configuration().max_shots\n",
    "print(max_experiments,max_shots)"
   ]
  },
  {
   "cell_type": "markdown",
   "metadata": {},
   "source": [
    "## print backend info"
   ]
  },
  {
   "cell_type": "code",
   "execution_count": 17,
   "metadata": {},
   "outputs": [
    {
     "data": {
      "text/plain": [
       "qiskit.providers.models.backendproperties.BackendProperties"
      ]
     },
     "execution_count": 17,
     "metadata": {},
     "output_type": "execute_result"
    }
   ],
   "source": [
    "prop=backend.properties()\n",
    "type(prop)"
   ]
  },
  {
   "cell_type": "markdown",
   "metadata": {},
   "source": [
    "# Run the circuits"
   ]
  },
  {
   "cell_type": "markdown",
   "metadata": {},
   "source": [
    "### Function to import backend and token information during the runs"
   ]
  },
  {
   "cell_type": "code",
   "execution_count": 18,
   "metadata": {},
   "outputs": [
    {
     "name": "stdout",
     "output_type": "stream",
     "text": [
      "/home/haimeng/LocalProjects/IBM-PMME/IBM_data/job_submission/20210128\n"
     ]
    }
   ],
   "source": [
    "# print current working directory\n",
    "print(os.getcwd())"
   ]
  },
  {
   "cell_type": "code",
   "execution_count": 19,
   "metadata": {},
   "outputs": [],
   "source": [
    "import csv\n",
    "def exportJobInfo(usertoken,jobid,filenames,backend):\n",
    "    global runRecords\n",
    "    now = datetime.datetime.now()\n",
    "    qindex = int(filenames[0].split('/')[-1].split('_')[1][-1])\n",
    "    with open(runRecords+jobid + '_' +usertoken+'.csv','w+') as f:\n",
    "        writer = csv.writer(f,delimiter=',')\n",
    "        writer.writerow(['token',token])\n",
    "        writer.writerow(['jobid',jobid])\n",
    "        writer.writerow(['backend',backend.properties().backend_name])\n",
    "        writer.writerow(['qubit',qindex])\n",
    "        prop = backend.properties().qubit_property(qindex)\n",
    "        for key,value in prop.items():\n",
    "            writer.writerow([key,value])\n",
    "        writer.writerow(['circuits'])\n",
    "        for item in filenames:\n",
    "            writer.writerow([item])\n",
    "        "
   ]
  },
  {
   "cell_type": "code",
   "execution_count": 20,
   "metadata": {},
   "outputs": [
    {
     "data": {
      "text/plain": [
       "'ibmq_santiago'"
      ]
     },
     "execution_count": 20,
     "metadata": {},
     "output_type": "execute_result"
    }
   ],
   "source": [
    "backend_info = backend.properties().to_dict() \n",
    "backend_info['backend_name']"
   ]
  },
  {
   "cell_type": "markdown",
   "metadata": {},
   "source": [
    "### Function to check for available tokens"
   ]
  },
  {
   "cell_type": "code",
   "execution_count": 35,
   "metadata": {},
   "outputs": [
    {
     "name": "stdout",
     "output_type": "stream",
     "text": [
      "5 jobs available for theireasychair@icloud.com\n"
     ]
    },
    {
     "data": {
      "text/plain": [
       "'e009883c3a103e728b741783f67d8586a37c0de04447151aa9493d13b3e76518f135424c482d9be2ef02759194085c8dce0db926f392ef5caa5b66f2843025a3'"
      ]
     },
     "execution_count": 35,
     "metadata": {},
     "output_type": "execute_result"
    }
   ],
   "source": [
    "\n",
    " \n",
    "#Select a available token to send the run to\n",
    "#With the current setup, loading and unloading a token takes sometime\n",
    "#sequentially check each token for availability will increase loadtime for tokens that are near the end\n",
    "#so given a list of tokens, everytime a job is sent to a token, that token will be sent to the end\n",
    "def availableToken():\n",
    "    global provider, backend, apitokens\n",
    "    token = apitokens[0]\n",
    "    available_jobs = backend.job_limit().maximum_jobs - backend.job_limit().active_jobs\n",
    "    if available_jobs > 1:\n",
    "        print(f'{available_jobs} jobs available for {apiInv[token]}')\n",
    "        return token\n",
    "\n",
    "    #if the first token has no availability then we will continue below\n",
    "    apitokens.append(apitokens.pop(0))\n",
    "    for token in apitokens:\n",
    "        IBMQ.disable_account() \n",
    "        provider = IBMQ.enable_account(token) \n",
    "        backend = provider.backends.ibmq_santiagp\n",
    "        available_jobs = backend.job_limit().maximum_jobs - backend.job_limit().active_jobs\n",
    "        if available_jobs > 1:\n",
    "            print(f'{available_jobs} jobs available for {apiInv[token]}')\n",
    "            apitokens.insert(0, apitokens.pop(apitokens.index(token)))\n",
    "            return token\n",
    "\n",
    "availableToken()   \n",
    "      "
   ]
  },
  {
   "cell_type": "markdown",
   "metadata": {},
   "source": [
    "### Actually doing the runs"
   ]
  },
  {
   "cell_type": "code",
   "execution_count": 22,
   "metadata": {},
   "outputs": [],
   "source": [
    "#start with empty containers\n",
    "#dont run this block if you already have a list of runs you want to continue\n",
    "\n",
    "runDict = {} #matches each batch to the job token\n",
    "jobDict = {} #matches each batch to the entire job object\n",
    "jobsFound = set([]) #status is updated when checked\n",
    "jobsDone = set([])"
   ]
  },
  {
   "cell_type": "code",
   "execution_count": 23,
   "metadata": {},
   "outputs": [
    {
     "data": {
      "text/plain": [
       "'ibmq_santiago'"
      ]
     },
     "execution_count": 23,
     "metadata": {},
     "output_type": "execute_result"
    }
   ],
   "source": [
    "backend.properties().backend_name"
   ]
  },
  {
   "cell_type": "code",
   "execution_count": 29,
   "metadata": {},
   "outputs": [
    {
     "data": {
      "text/plain": [
       "10"
      ]
     },
     "execution_count": 29,
     "metadata": {},
     "output_type": "execute_result"
    }
   ],
   "source": [
    "len(batchFiles)"
   ]
  },
  {
   "cell_type": "code",
   "execution_count": 36,
   "metadata": {},
   "outputs": [
    {
     "name": "stdout",
     "output_type": "stream",
     "text": [
      "5 jobs available for theireasychair@icloud.com\n",
      "JobStatus.VALIDATING\n",
      "Batch 8 has been sent\n",
      "4 jobs available for theireasychair@icloud.com\n",
      "JobStatus.VALIDATING\n",
      "Batch 9 has been sent\n",
      "{0: ['316cca1ff42067b9901b6a9e90ca76496e76b4a73139954176c6fe31a45572fcd37089924cbe5c41edb96a9b4c0e92e44451ed350e2a7e45dc809d26cd752eed', '6013d08641bd12102a744d11'], 1: ['316cca1ff42067b9901b6a9e90ca76496e76b4a73139954176c6fe31a45572fcd37089924cbe5c41edb96a9b4c0e92e44451ed350e2a7e45dc809d26cd752eed', '6013d0c2e07ede8580a0a72c'], 2: ['316cca1ff42067b9901b6a9e90ca76496e76b4a73139954176c6fe31a45572fcd37089924cbe5c41edb96a9b4c0e92e44451ed350e2a7e45dc809d26cd752eed', '6013d0fc696e343ad2c4f940'], 3: ['316cca1ff42067b9901b6a9e90ca76496e76b4a73139954176c6fe31a45572fcd37089924cbe5c41edb96a9b4c0e92e44451ed350e2a7e45dc809d26cd752eed', '6013d13941bd127202744d19'], 4: ['3513ac2a5100793f7e44bf520ad54b2d7bb68da03cd0f410a3bea14853644e1841de6ce86fbee2a750f814f032584d002f601fe25360b446f81339ba3a957eed', '6013d1f835712900f4f52cdc'], 5: ['3513ac2a5100793f7e44bf520ad54b2d7bb68da03cd0f410a3bea14853644e1841de6ce86fbee2a750f814f032584d002f601fe25360b446f81339ba3a957eed', '6013d23c5852f05dab5df306'], 6: ['3513ac2a5100793f7e44bf520ad54b2d7bb68da03cd0f410a3bea14853644e1841de6ce86fbee2a750f814f032584d002f601fe25360b446f81339ba3a957eed', '6013d2765852f0a5775df309'], 7: ['3513ac2a5100793f7e44bf520ad54b2d7bb68da03cd0f410a3bea14853644e1841de6ce86fbee2a750f814f032584d002f601fe25360b446f81339ba3a957eed', '6013d2b4357129d168f52ce3'], 8: ['e009883c3a103e728b741783f67d8586a37c0de04447151aa9493d13b3e76518f135424c482d9be2ef02759194085c8dce0db926f392ef5caa5b66f2843025a3', '6013d388c5b451ba64abb927'], 9: ['e009883c3a103e728b741783f67d8586a37c0de04447151aa9493d13b3e76518f135424c482d9be2ef02759194085c8dce0db926f392ef5caa5b66f2843025a3', '6013d3cd41bd129b5b744d29']}\n"
     ]
    }
   ],
   "source": [
    "#start runs\n",
    "#generally we want to run all the batchFiles, but we can also choose to run only some of them:\n",
    "#todoFiles = [batchFiles[3]]\n",
    "jobsNotFound = list(set(range(0, len(batchFiles))) - jobsFound)\n",
    "\n",
    "# todoFiles = batchFiles[0::]\n",
    "# for runFiles in todoFiles:\n",
    "for n in jobsNotFound[0::]:\n",
    "    try:\n",
    "        runFiles = batchFiles[n]\n",
    "        token = availableToken()\n",
    "\n",
    "        allQasmList = [QuantumCircuit.from_qasm_file(file) for file in runFiles] #this needs to edited if the batch files also contain directory\n",
    "        allCircuits= assemble(allQasmList, backend, shots=8192)\n",
    "\n",
    "        job_current = backend.run(allCircuits)\n",
    "        print(job_current.status())\n",
    "\n",
    "        runId = job_current.job_id()\n",
    "    #     runTokens.append(token)\n",
    "    #     runIds.append(runId)\n",
    "        runDict[batchFiles.index(runFiles)] = [token, runId] #note that the index still refers to the original batchFiles\n",
    "\n",
    "        #as retrieve job is not working temporarily I will save job_current in a dictionary as well\n",
    "        jobDict[batchFiles.index(runFiles)] = job_current\n",
    "        print(f\"Batch {batchFiles.index(runFiles)} has been sent\")\n",
    "\n",
    "        exportJobInfo(token, runId, batchFiles[0], backend)\n",
    "    except:\n",
    "        pass\n",
    "\n",
    "print(runDict)"
   ]
  },
  {
   "cell_type": "code",
   "execution_count": 1,
   "metadata": {},
   "outputs": [
    {
     "ename": "NameError",
     "evalue": "name 'runDict' is not defined",
     "output_type": "error",
     "traceback": [
      "\u001b[0;31m---------------------------------------------------------------------------\u001b[0m",
      "\u001b[0;31mNameError\u001b[0m                                 Traceback (most recent call last)",
      "\u001b[0;32m<ipython-input-1-829e363d1756>\u001b[0m in \u001b[0;36m<module>\u001b[0;34m\u001b[0m\n\u001b[0;32m----> 1\u001b[0;31m \u001b[0mrunDict\u001b[0m\u001b[0;34m\u001b[0m\u001b[0;34m\u001b[0m\u001b[0m\n\u001b[0m",
      "\u001b[0;31mNameError\u001b[0m: name 'runDict' is not defined"
     ]
    }
   ],
   "source": [
    "runDict"
   ]
  },
  {
   "cell_type": "markdown",
   "metadata": {},
   "source": [
    "### Checking job status"
   ]
  },
  {
   "cell_type": "code",
   "execution_count": null,
   "metadata": {},
   "outputs": [
    {
     "name": "stdout",
     "output_type": "stream",
     "text": [
      "|Batch| Q#  | Status\n"
     ]
    }
   ],
   "source": [
    "# import sleep\n",
    "jobsNotDone = list(set(runDict.keys()) - jobsDone)\n",
    "\n",
    "def loadToken(token):\n",
    "    global provider, backend\n",
    "    if(not IBMQ.active_account()):\n",
    "        IBMQ.load_account()\n",
    "    IBMQ.disable_account() \n",
    "    provider = IBMQ.enable_account(token) \n",
    "    backend = provider.backends.ibmq_santiago\n",
    "    return None\n",
    "\n",
    "print(\"|Batch| Q#  | Status\")\n",
    "for job in jobsNotDone:\n",
    "#     try:\n",
    "    [token, job_id] = runDict[job]\n",
    "    loadToken(token)\n",
    "\n",
    "    #get job from dictionary instead of retrieve job as that function is broken for now\n",
    "#         job_data = backend.retrieve_job(job_id)\n",
    "    #alternatively get job from the jobD|ict\n",
    "    if job in jobDict:\n",
    "        job_data = jobDict[job]\n",
    "    else:\n",
    "        job_data = backend.retrieve_job(job_id)\n",
    "    #print(f\"Batch {job} is {job_data.status()}\")\n",
    "\n",
    "    jobsFound.add(job)\n",
    "    qno = '---'\n",
    "    if str(job_data.status()) == 'JobStatus.QUEUED':\n",
    "        #print(f'queue number is {job_data.queue_info().position}')\n",
    "        qno = str(job_data.queue_info().position).zfill(3)\n",
    "\n",
    "    if str(job_data.status()) == 'JobStatus.DONE':\n",
    "        jobsDone.add(job)\n",
    "\n",
    "    st = str(job_data.status()).split('.')[1]\n",
    "    jno = str(job).zfill(3)\n",
    "    print(f'| {jno} | {qno} | {st}')\n",
    "#     except:\n",
    "#         pass\n",
    "\n",
    "print(f'{len(jobsFound)} jobs found: {jobsFound}')\n",
    "print(f'{len(jobsDone)} jobs done: {jobsDone}')\n",
    "# if some batches are showing network errors, run only those batches again\n",
    "# try, excess commands above force the loop to continue even when some batches show errors"
   ]
  },
  {
   "cell_type": "markdown",
   "metadata": {},
   "source": [
    "# Exporting Data (Run after jobs have completed)"
   ]
  },
  {
   "cell_type": "code",
   "execution_count": 28,
   "metadata": {},
   "outputs": [
    {
     "name": "stdout",
     "output_type": "stream",
     "text": [
      "../../../Circuits/ibmqx2/20210128/MeasMainqFree_Q0_XplusState_QS_ZminusState/MeasMainqFree_Q0_XplusState_QS_ZminusState_20210128_ibmqx2_numIdGates=96_obsX.qasm\n",
      "../../../Circuits/ibmqx2/20210128/MeasMainqFree_Q0_XplusState_QS_ZminusState\n"
     ]
    },
    {
     "data": {
      "text/plain": [
       "'../../../Data/raw/ibmqx2/20210128/MeasMainqFree_Q0_XplusState_QS_ZminusState/run1/MeasMainqFree_Q0_XplusState_QS_ZminusState_20210128_ibmqx2_numIdGates=96_obsX_6013a18241bd1226dd744c00.txt'"
      ]
     },
     "execution_count": 28,
     "metadata": {},
     "output_type": "execute_result"
    }
   ],
   "source": [
    "filename = batchFiles[0][0]\n",
    "print(filename)\n",
    "print(os.path.dirname(filename))\n",
    "run=1\n",
    "os.path.dirname(filename).replace('/Circuits/', '/Data/raw/') + f'/run{run}/' + os.path.basename(filename).split('.qasm')[0] + f'_{job_id}.txt'\n"
   ]
  },
  {
   "cell_type": "code",
   "execution_count": 30,
   "metadata": {},
   "outputs": [],
   "source": [
    "resultRecords = '../../Data/records/results/'\n",
    "if not os.path.exists(resultRecords):\n",
    "        os.makedirs(resultRecords)\n",
    "\n",
    "#job results are returned a list of dictionaries and they will have the same order as the order of the files in that batch\n",
    "# filenames given here should also include the folder names as well\n",
    "def exportBatchJob(filenames, token, job_id):\n",
    "    loadToken(token)\n",
    "    #job_data = backend.retrieve_job(job_id)\n",
    "    if job in jobDict:\n",
    "        job_data = jobDict[job]\n",
    "        print('found token')\n",
    "    else:\n",
    "        job_data = backend.retrieve_job(job_id)\n",
    "    \n",
    "    with open(resultRecords + f'{job_id}_{token}_results.txt', 'w') as f:\n",
    "        f.write(str(job_data.result().to_dict()))\n",
    "    \n",
    "    for i in range(0, len(filenames)):\n",
    "        result = job_data.result().get_counts()[i]\n",
    "        exportResult(token, job_id, i, filenames[i], result)\n",
    "        \n",
    "        \n",
    "#results will be in the form of dictionary\n",
    "#filename here should also include the foldernames\n",
    "def exportResult(token, job_id, circNo, filename, result):\n",
    "#     print(filename)\n",
    "    directory = os.path.dirname(filename).replace('/Circuits/', '/Data/raw/')+ f'/run{run}/'\n",
    "    file = directory + os.path.basename(filename).split('.qasm')[0] + f'_{job_id}.txt'\n",
    "    if not os.path.exists(os.path.dirname(file)):\n",
    "        os.makedirs(os.path.dirname(file))\n",
    "        \n",
    "    \n",
    "    with open(file, 'w') as f:\n",
    "            f.write(\"usertoken,jobid,circuit_number\\n\")\n",
    "            f.write(f\"{token},{job_id},{circNo}\\n\")\n",
    "            [f.write( '\"'+str(key)+'\"' + ',' + str(value) + '\\n') for key, value in result.items()]\n",
    "    return None\n",
    "\n",
    "\n"
   ]
  },
  {
   "cell_type": "code",
   "execution_count": 31,
   "metadata": {},
   "outputs": [
    {
     "name": "stdout",
     "output_type": "stream",
     "text": [
      "found token\n",
      "job 0 has been exported\n",
      "found token\n",
      "job 1 has been exported\n",
      "found token\n",
      "job 2 has been exported\n",
      "found token\n",
      "job 3 has been exported\n",
      "found token\n",
      "job 4 has been exported\n",
      "found token\n",
      "job 5 has been exported\n",
      "found token\n",
      "job 6 has been exported\n",
      "found token\n",
      "job 7 has been exported\n",
      "2\n",
      "found token\n",
      "job 8 has been exported\n",
      "found token\n",
      "job 9 has been exported\n"
     ]
    }
   ],
   "source": [
    "# batchFilesFull = [ [ inputDir + f for f in batch] for batch in batchFiles] #this wont be necessary if the filename have dir\n",
    "for job in list(runDict.keys()):\n",
    "    [token, job_id] = runDict[job]\n",
    "    #print(runDict[job])\n",
    "    file = batchFiles[job][0]\n",
    "    directory = os.path.dirname(file.replace('/Circuits/', '/Data/raw/'))\n",
    "    if os.path.exists(directory):\n",
    "        exists = os.listdir(directory)\n",
    "        run = 1 + len(exists)\n",
    "        print(run)\n",
    "    else:\n",
    "        run =1\n",
    "    exportBatchJob(batchFiles[job], token, job_id)\n",
    "    print(f\"job {job} has been exported\")"
   ]
  },
  {
   "cell_type": "code",
   "execution_count": null,
   "metadata": {},
   "outputs": [],
   "source": []
  }
 ],
 "metadata": {
  "kernelspec": {
   "display_name": "Python 3",
   "language": "python",
   "name": "python3"
  },
  "language_info": {
   "codemirror_mode": {
    "name": "ipython",
    "version": 3
   },
   "file_extension": ".py",
   "mimetype": "text/x-python",
   "name": "python",
   "nbconvert_exporter": "python",
   "pygments_lexer": "ipython3",
   "version": "3.7.7"
  }
 },
 "nbformat": 4,
 "nbformat_minor": 4
}
