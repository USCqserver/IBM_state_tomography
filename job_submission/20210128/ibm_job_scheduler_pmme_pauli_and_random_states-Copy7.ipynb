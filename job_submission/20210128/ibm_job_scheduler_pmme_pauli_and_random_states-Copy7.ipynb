{
 "cells": [
  {
   "cell_type": "markdown",
   "metadata": {},
   "source": [
    "# Pre-Run Setup"
   ]
  },
  {
   "cell_type": "markdown",
   "metadata": {},
   "source": [
    "### Import Libraries"
   ]
  },
  {
   "cell_type": "code",
   "execution_count": 1,
   "metadata": {},
   "outputs": [],
   "source": [
    "from qiskit import *\n",
    "import os\n",
    "import datetime\n",
    "import numpy as np\n",
    "from datetime import date\n",
    "#you have to load some account to start\n"
   ]
  },
  {
   "cell_type": "code",
   "execution_count": 2,
   "metadata": {},
   "outputs": [],
   "source": [
    "import random\n",
    "import os"
   ]
  },
  {
   "cell_type": "code",
   "execution_count": 3,
   "metadata": {},
   "outputs": [],
   "source": [
    "#IBMQ.disable_account() \n",
    "# IBMQ.disable_account()\n",
    "token0 = '316cca1ff42067b9901b6a9e90ca76496e76b4a73139954176c6fe31a45572fcd37089924cbe5c41edb96a9b4c0e92e44451ed350e2a7e45dc809d26cd752eed'\n",
    "provider = IBMQ.enable_account(token0)"
   ]
  },
  {
   "cell_type": "code",
   "execution_count": 4,
   "metadata": {},
   "outputs": [
    {
     "name": "stdout",
     "output_type": "stream",
     "text": [
      "0.00011080482195565121\n",
      "8.420488114254505e-05\n",
      "9.403793381476222e-05\n",
      "0.00010301290765268852\n",
      "9.972708341188245e-05\n"
     ]
    }
   ],
   "source": [
    "backend = provider.backends.ibmq_santiago\n",
    "for i in range(5):\n",
    "    prop = backend.properties()\n",
    "    print(prop.t2(i))"
   ]
  },
  {
   "cell_type": "markdown",
   "metadata": {},
   "source": [
    "### Specify the files that need to be run \n",
    "The old setup works with only one folder."
   ]
  },
  {
   "cell_type": "code",
   "execution_count": 5,
   "metadata": {},
   "outputs": [],
   "source": [
    "def shuffle_qasms(qasmlist):\n",
    "    def get_time(filename):\n",
    "        idgate = filename.split('/')[-1].split('_')[8].split('=')[-1]\n",
    "        return idgate\n",
    "    print(get_time(qasmlist[0]))\n",
    "    times = list(set([get_time(x) for x in qasmlist])) #remove duplicates\n",
    "    times.sort()\n",
    "    print('# of time instances=%d'%(len(times)))\n",
    "    random.shuffle(times) #randomize the timesteps\n",
    "    print(times)\n",
    "    sorted_qasm_list = []\n",
    "    for time in times:\n",
    "        sorted_qasm_list += [f for f in qasmlist if get_time(f) == time]\n",
    "    return sorted_qasm_list"
   ]
  },
  {
   "cell_type": "code",
   "execution_count": 6,
   "metadata": {},
   "outputs": [
    {
     "data": {
      "text/plain": [
       "['MeasMainqFree_Q1_XplusState_QS_ZminusState',\n",
       " 'MeasMainqFree_Q1_randomState0_QS_ZminusState',\n",
       " 'MeasMainqFree_Q1_XminusState_QS_ZminusState',\n",
       " 'MeasMainqFree_Q1_randomState1_QS_ZminusState',\n",
       " 'MeasMainqFree_Q1_YplusState_QS_ZminusState',\n",
       " 'MeasMainqFree_Q1_randomState2_QS_ZminusState',\n",
       " 'MeasMainqFree_Q1_YminusState_QS_ZminusState',\n",
       " 'MeasMainqFree_Q1_randomState3_QS_ZminusState',\n",
       " 'MeasMainqFree_Q1_XplusState_QS_ZminusState',\n",
       " 'MeasMainqFree_Q1_randomState4_QS_ZminusState']"
      ]
     },
     "execution_count": 6,
     "metadata": {},
     "output_type": "execute_result"
    }
   ],
   "source": [
    "import glob\n",
    "from datetime import date\n",
    "circuitPath = r\"../../../Circuits\"\n",
    "device = \"ibmq_santiago\"\n",
    "datestr = \"20210129\"\n",
    "runtypes = [f.name for f in os.scandir(circuitPath + '/' + device + '/' + datestr) if f.is_dir() and 'QS_Zminus' in f.name]\n",
    "batchFiles = []\n",
    "\n",
    "runtypes_ordered = []\n",
    "PauliStates = ['XplusState', 'XminusState','YplusState', 'YminusState']\n",
    "randomStates = ['randomState%d'%(i) for i in range(5)]\n",
    "for i in range(5):\n",
    "    runtype = [item for item in runtypes if item.split('_')[2]==PauliStates[i%4]]\n",
    "    runtypes_ordered.append(runtype[0])\n",
    "    runtype = [item for item in runtypes if item.split('_')[2]==randomStates[i]]\n",
    "    runtypes_ordered.append(runtype[0])\n",
    "runtypes_ordered"
   ]
  },
  {
   "cell_type": "code",
   "execution_count": 7,
   "metadata": {
    "pycharm": {
     "is_executing": false
    }
   },
   "outputs": [
    {
     "name": "stdout",
     "output_type": "stream",
     "text": [
      "72\n",
      "../../../Circuits/ibmq_santiago/20210129/MeasMainqFree_Q1_XplusState_QS_ZminusState/MeasMainqFree_Q1_XplusState_QS_ZminusState_20210129_ibmq_santiago_numIdGates=0_obsY.qasm\n",
      "0\n",
      "# of time instances=24\n",
      "['0', '1440', '1368', '864', '1152', '1008', '1080', '504', '936', '648', '288', '432', '144', '720', '1584', '360', '1224', '792', '576', '72', '1656', '1296', '1512', '216']\n",
      "74\n",
      "72\n",
      "../../../Circuits/ibmq_santiago/20210129/MeasMainqFree_Q1_randomState0_QS_ZminusState/MeasMainqFree_Q1_randomState0_QS_ZminusState_20210129_ibmq_santiago_numIdGates=0_obsY.qasm\n",
      "0\n",
      "# of time instances=24\n",
      "['1368', '72', '1512', '504', '792', '1008', '1656', '1440', '648', '216', '864', '576', '1224', '1296', '720', '432', '1080', '360', '936', '288', '144', '0', '1584', '1152']\n",
      "74\n",
      "72\n",
      "../../../Circuits/ibmq_santiago/20210129/MeasMainqFree_Q1_XminusState_QS_ZminusState/MeasMainqFree_Q1_XminusState_QS_ZminusState_20210129_ibmq_santiago_numIdGates=0_obsX.qasm\n",
      "0\n",
      "# of time instances=24\n",
      "['936', '1296', '1512', '360', '504', '1008', '432', '1584', '576', '144', '1656', '1152', '1080', '288', '1224', '864', '1368', '216', '1440', '72', '0', '720', '648', '792']\n",
      "74\n",
      "72\n",
      "../../../Circuits/ibmq_santiago/20210129/MeasMainqFree_Q1_randomState1_QS_ZminusState/MeasMainqFree_Q1_randomState1_QS_ZminusState_20210129_ibmq_santiago_numIdGates=0_obsX.qasm\n",
      "0\n",
      "# of time instances=24\n",
      "['720', '1008', '1584', '288', '1152', '1296', '576', '1080', '1512', '1656', '864', '1224', '1440', '432', '936', '360', '792', '0', '1368', '504', '72', '216', '144', '648']\n",
      "74\n",
      "72\n",
      "../../../Circuits/ibmq_santiago/20210129/MeasMainqFree_Q1_YplusState_QS_ZminusState/MeasMainqFree_Q1_YplusState_QS_ZminusState_20210129_ibmq_santiago_numIdGates=0_obsY.qasm\n",
      "0\n",
      "# of time instances=24\n",
      "['576', '360', '1152', '1080', '1440', '648', '1368', '72', '1512', '864', '1224', '1656', '0', '792', '504', '1584', '432', '1296', '720', '144', '936', '216', '1008', '288']\n",
      "74\n",
      "72\n",
      "../../../Circuits/ibmq_santiago/20210129/MeasMainqFree_Q1_randomState2_QS_ZminusState/MeasMainqFree_Q1_randomState2_QS_ZminusState_20210129_ibmq_santiago_numIdGates=0_obsY.qasm\n",
      "0\n",
      "# of time instances=24\n",
      "['864', '936', '504', '1368', '144', '576', '288', '792', '0', '1512', '1224', '1080', '1656', '1008', '360', '1296', '720', '432', '216', '1152', '648', '72', '1440', '1584']\n",
      "74\n",
      "72\n",
      "../../../Circuits/ibmq_santiago/20210129/MeasMainqFree_Q1_YminusState_QS_ZminusState/MeasMainqFree_Q1_YminusState_QS_ZminusState_20210129_ibmq_santiago_numIdGates=0_obsY.qasm\n",
      "0\n",
      "# of time instances=24\n",
      "['144', '648', '1584', '72', '0', '1008', '864', '1368', '720', '360', '1656', '792', '1440', '1080', '1224', '1296', '288', '504', '936', '1152', '1512', '576', '216', '432']\n",
      "74\n",
      "72\n",
      "../../../Circuits/ibmq_santiago/20210129/MeasMainqFree_Q1_randomState3_QS_ZminusState/MeasMainqFree_Q1_randomState3_QS_ZminusState_20210129_ibmq_santiago_numIdGates=0_obsX.qasm\n",
      "0\n",
      "# of time instances=24\n",
      "['0', '1584', '576', '1296', '1224', '1080', '288', '1152', '360', '792', '1440', '504', '720', '936', '72', '648', '432', '1512', '1008', '216', '864', '144', '1656', '1368']\n",
      "74\n",
      "72\n",
      "../../../Circuits/ibmq_santiago/20210129/MeasMainqFree_Q1_XplusState_QS_ZminusState/MeasMainqFree_Q1_XplusState_QS_ZminusState_20210129_ibmq_santiago_numIdGates=0_obsY.qasm\n",
      "0\n",
      "# of time instances=24\n",
      "['1224', '936', '1368', '864', '288', '792', '216', '144', '576', '1008', '1584', '504', '1152', '1512', '360', '1296', '648', '720', '432', '1080', '1440', '72', '1656', '0']\n",
      "74\n",
      "72\n",
      "../../../Circuits/ibmq_santiago/20210129/MeasMainqFree_Q1_randomState4_QS_ZminusState/MeasMainqFree_Q1_randomState4_QS_ZminusState_20210129_ibmq_santiago_numIdGates=0_obsY.qasm\n",
      "0\n",
      "# of time instances=24\n",
      "['1296', '504', '1008', '1584', '288', '576', '432', '720', '864', '936', '1512', '216', '1368', '72', '1152', '648', '1440', '360', '1224', '792', '1080', '144', '0', '1656']\n",
      "74\n"
     ]
    }
   ],
   "source": [
    "for runtype in runtypes_ordered:\n",
    "    qasmpath = circuitPath + '/' + device + '/'+ datestr + '/' + runtype + '/'\n",
    "    qasmlist = glob.glob(qasmpath + '%s*.qasm'%(runtype.split('_')[0]))\n",
    "    # sort by id gates\n",
    "    qasmlist.sort(key=lambda x: int(x.split('/')[-1].split('_')[8].split('=')[-1]))\n",
    "    print(len(qasmlist))\n",
    "    f=qasmlist[0]\n",
    "    print(f)\n",
    "    QuantumCircuit().from_qasm_file(f).draw(output='mpl')\n",
    "    sorted_qasm_list = shuffle_qasms(qasmlist)\n",
    "    # add measurement error mitigation\n",
    "    meas_qasm = glob.glob(qasmpath + '%s*.qasm'%('MeasError'))\n",
    "    sorted_qasm_list += meas_qasm\n",
    "    print(len(sorted_qasm_list))\n",
    "    batchFiles += [sorted_qasm_list]"
   ]
  },
  {
   "cell_type": "code",
   "execution_count": 9,
   "metadata": {},
   "outputs": [
    {
     "data": {
      "text/plain": [
       "74"
      ]
     },
     "execution_count": 9,
     "metadata": {},
     "output_type": "execute_result"
    }
   ],
   "source": [
    "len(batchFiles[3])"
   ]
  },
  {
   "cell_type": "code",
   "execution_count": 10,
   "metadata": {},
   "outputs": [
    {
     "name": "stdout",
     "output_type": "stream",
     "text": [
      "../../../Circuits/ibmq_santiago/20210129/MeasMainqFree_Q1_randomState4_QS_ZminusState/MeasMainqFree_Q1_randomState4_QS_ZminusState_20210129_ibmq_santiago_numIdGates=72_obsY.qasm\n"
     ]
    },
    {
     "data": {
      "image/png": "[encoded data removed]",
      "text/plain": [
       "<Figure size 1683.19x2913.68 with 1 Axes>"
      ]
     },
     "execution_count": 10,
     "metadata": {},
     "output_type": "execute_result"
    }
   ],
   "source": [
    "f=qasmlist[5]\n",
    "print(f)\n",
    "QuantumCircuit().from_qasm_file(f).draw(output='mpl')"
   ]
  },
  {
   "cell_type": "code",
   "execution_count": 11,
   "metadata": {},
   "outputs": [
    {
     "name": "stdout",
     "output_type": "stream",
     "text": [
      "XplusState\n",
      "randomState0\n",
      "XminusState\n",
      "randomState1\n",
      "YplusState\n",
      "randomState2\n",
      "YminusState\n",
      "randomState3\n",
      "XplusState\n",
      "randomState4\n"
     ]
    }
   ],
   "source": [
    "for i in range(10):\n",
    "    print(batchFiles[i][0].split('/')[-1].split('_')[2])"
   ]
  },
  {
   "cell_type": "code",
   "execution_count": 12,
   "metadata": {
    "pycharm": {
     "is_executing": false,
     "name": "#%%\n"
    }
   },
   "outputs": [],
   "source": [
    "tokens = {'haimeng@usc.edu':'316cca1ff42067b9901b6a9e90ca76496e76b4a73139954176c6fe31a45572fcd37089924cbe5c41edb96a9b4c0e92e44451ed350e2a7e45dc809d26cd752eed',\n",
    "          'zhanghaimeng1994@gmail.com':'3513ac2a5100793f7e44bf520ad54b2d7bb68da03cd0f410a3bea14853644e1841de6ce86fbee2a750f814f032584d002f601fe25360b446f81339ba3a957eed',\n",
    "          'theireasychair@gmail.com':'c59327488ff0575f9fcafd3f8d8ad627a1574fcf130508ac0314f08af78afc5cc5787acd7527140cb8aeacceaf4eaf82960785df5636991287d4f086db3b7229',\n",
    "          'theireasychair@icloud.com':'e009883c3a103e728b741783f67d8586a37c0de04447151aa9493d13b3e76518f135424c482d9be2ef02759194085c8dce0db926f392ef5caa5b66f2843025a3',\n",
    "          'jinweixu@stanford.edu':'21a7ae9539b78959e11dcc1383c5691767f36b13d5d8efa01e515b76714b796903c19a61537adf98583e1cb04e4ee2584c6ba5f632b9a16cb8ad80cc6ce90ba7'}"
   ]
  },
  {
   "cell_type": "markdown",
   "metadata": {},
   "source": [
    "### Specify API and Backend"
   ]
  },
  {
   "cell_type": "markdown",
   "metadata": {},
   "source": [
    "This script checks for how many jobs are available per token."
   ]
  },
  {
   "cell_type": "code",
   "execution_count": 13,
   "metadata": {},
   "outputs": [
    {
     "name": "stdout",
     "output_type": "stream",
     "text": [
      "5 jobs available for haimeng@usc.edu\n",
      "5 jobs available for zhanghaimeng1994@gmail.com\n",
      "5 jobs available for theireasychair@gmail.com\n",
      "5 jobs available for theireasychair@icloud.com\n",
      "1 jobs available for jinweixu@stanford.edu\n"
     ]
    }
   ],
   "source": [
    "#write the email address corresponding to each API, this will help when these APIs expire\n",
    "apiDict = tokens\n",
    "apiInv =dict(map(reversed, apiDict.items()))\n",
    "apitokens = list(apiDict.values())\n",
    "\n",
    "\n",
    "for token in apitokens:\n",
    "    IBMQ.disable_account() #Start with no account loaded\n",
    "    provider = IBMQ.enable_account(token) #Some account must be loaded before we start\n",
    "    backend = provider.backends.ibmq_santiago\n",
    "    available_jobs = backend.job_limit().maximum_jobs - backend.job_limit().active_jobs\n",
    "    print(f\"{available_jobs} jobs available for {apiInv[token]}\")\n",
    "\n"
   ]
  },
  {
   "cell_type": "code",
   "execution_count": 14,
   "metadata": {},
   "outputs": [
    {
     "name": "stdout",
     "output_type": "stream",
     "text": [
      "75 8192\n"
     ]
    }
   ],
   "source": [
    "backend.configuration() #max_experiments=75, max_shots=8192\n",
    "max_experiments=backend.configuration().max_experiments\n",
    "max_shots=backend.configuration().max_shots\n",
    "print(max_experiments,max_shots)"
   ]
  },
  {
   "cell_type": "markdown",
   "metadata": {},
   "source": [
    "## print backend info"
   ]
  },
  {
   "cell_type": "code",
   "execution_count": 15,
   "metadata": {},
   "outputs": [
    {
     "data": {
      "text/plain": [
       "qiskit.providers.models.backendproperties.BackendProperties"
      ]
     },
     "execution_count": 15,
     "metadata": {},
     "output_type": "execute_result"
    }
   ],
   "source": [
    "prop=backend.properties()\n",
    "type(prop)"
   ]
  },
  {
   "cell_type": "markdown",
   "metadata": {},
   "source": [
    "# Run the circuits"
   ]
  },
  {
   "cell_type": "markdown",
   "metadata": {},
   "source": [
    "### Function to import backend and token information during the runs"
   ]
  },
  {
   "cell_type": "code",
   "execution_count": 16,
   "metadata": {},
   "outputs": [
    {
     "name": "stdout",
     "output_type": "stream",
     "text": [
      "/home/haimeng/LocalProjects/IBM-PMME/IBM_data/job_submission/20210128\n"
     ]
    }
   ],
   "source": [
    "# print current working directory\n",
    "print(os.getcwd())"
   ]
  },
  {
   "cell_type": "code",
   "execution_count": 17,
   "metadata": {},
   "outputs": [],
   "source": [
    "import csv\n",
    "def exportJobInfo(usertoken,jobid,filenames,backend):\n",
    "    global runRecords\n",
    "    now = datetime.datetime.now()\n",
    "    qindex = int(filenames[0].split('/')[-1].split('_')[1][-1])\n",
    "    with open(runRecords+jobid + '_' +usertoken+'.csv','w+') as f:\n",
    "        writer = csv.writer(f,delimiter=',')\n",
    "        writer.writerow(['token',token])\n",
    "        writer.writerow(['jobid',jobid])\n",
    "        writer.writerow(['backend',backend.properties().backend_name])\n",
    "        writer.writerow(['qubit',qindex])\n",
    "        prop = backend.properties().qubit_property(qindex)\n",
    "        for key,value in prop.items():\n",
    "            writer.writerow([key,value])\n",
    "        writer.writerow(['circuits'])\n",
    "        for item in filenames:\n",
    "            writer.writerow([item])\n",
    "        "
   ]
  },
  {
   "cell_type": "code",
   "execution_count": 18,
   "metadata": {},
   "outputs": [
    {
     "data": {
      "text/plain": [
       "'ibmq_santiago'"
      ]
     },
     "execution_count": 18,
     "metadata": {},
     "output_type": "execute_result"
    }
   ],
   "source": [
    "backend_info = backend.properties().to_dict() \n",
    "backend_info['backend_name']"
   ]
  },
  {
   "cell_type": "markdown",
   "metadata": {},
   "source": [
    "### Function to check for available tokens"
   ]
  },
  {
   "cell_type": "code",
   "execution_count": 21,
   "metadata": {},
   "outputs": [
    {
     "name": "stdout",
     "output_type": "stream",
     "text": [
      "5 jobs available for theireasychair@icloud.com\n"
     ]
    },
    {
     "data": {
      "text/plain": [
       "'e009883c3a103e728b741783f67d8586a37c0de04447151aa9493d13b3e76518f135424c482d9be2ef02759194085c8dce0db926f392ef5caa5b66f2843025a3'"
      ]
     },
     "execution_count": 21,
     "metadata": {},
     "output_type": "execute_result"
    }
   ],
   "source": [
    "\n",
    " \n",
    "#Select a available token to send the run to\n",
    "#With the current setup, loading and unloading a token takes sometime\n",
    "#sequentially check each token for availability will increase loadtime for tokens that are near the end\n",
    "#so given a list of tokens, everytime a job is sent to a token, that token will be sent to the end\n",
    "def availableToken():\n",
    "    global provider, backend, apitokens\n",
    "    token = apitokens[0]\n",
    "    available_jobs = backend.job_limit().maximum_jobs - backend.job_limit().active_jobs\n",
    "    if available_jobs > 1:\n",
    "        print(f'{available_jobs} jobs available for {apiInv[token]}')\n",
    "        return token\n",
    "\n",
    "    #if the first token has no availability then we will continue below\n",
    "    apitokens.append(apitokens.pop(0))\n",
    "    for token in apitokens:\n",
    "        IBMQ.disable_account() \n",
    "        provider = IBMQ.enable_account(token) \n",
    "        backend = provider.backends.ibmq_santiago\n",
    "        available_jobs = backend.job_limit().maximum_jobs - backend.job_limit().active_jobs\n",
    "        if available_jobs > 1:\n",
    "            print(f'{available_jobs} jobs available for {apiInv[token]}')\n",
    "            apitokens.insert(0, apitokens.pop(apitokens.index(token)))\n",
    "            return token\n",
    "\n",
    "availableToken()   \n",
    "      "
   ]
  },
  {
   "cell_type": "markdown",
   "metadata": {},
   "source": [
    "### Actually doing the runs"
   ]
  },
  {
   "cell_type": "code",
   "execution_count": 22,
   "metadata": {},
   "outputs": [],
   "source": [
    "#start with empty containers\n",
    "#dont run this block if you already have a list of runs you want to continue\n",
    "\n",
    "runDict = {} #matches each batch to the job token\n",
    "jobDict = {} #matches each batch to the entire job object\n",
    "jobsFound = set([]) #status is updated when checked\n",
    "jobsDone = set([])"
   ]
  },
  {
   "cell_type": "code",
   "execution_count": 23,
   "metadata": {},
   "outputs": [
    {
     "data": {
      "text/plain": [
       "'ibmq_santiago'"
      ]
     },
     "execution_count": 23,
     "metadata": {},
     "output_type": "execute_result"
    }
   ],
   "source": [
    "backend.properties().backend_name"
   ]
  },
  {
   "cell_type": "code",
   "execution_count": 25,
   "metadata": {},
   "outputs": [
    {
     "name": "stdout",
     "output_type": "stream",
     "text": [
      "5 jobs available for theireasychair@icloud.com\n",
      "JobStatus.VALIDATING\n",
      "Batch 0 has been sent\n",
      "4 jobs available for theireasychair@icloud.com\n",
      "JobStatus.VALIDATING\n",
      "Batch 1 has been sent\n",
      "3 jobs available for theireasychair@icloud.com\n",
      "JobStatus.VALIDATING\n",
      "Batch 2 has been sent\n",
      "2 jobs available for theireasychair@icloud.com\n",
      "JobStatus.VALIDATING\n",
      "Batch 3 has been sent\n",
      "2 jobs available for jinweixu@stanford.edu\n",
      "JobStatus.VALIDATING\n",
      "Batch 4 has been sent\n",
      "2 jobs available for jinweixu@stanford.edu\n",
      "JobStatus.VALIDATING\n",
      "Batch 5 has been sent\n",
      "5 jobs available for haimeng@usc.edu\n",
      "JobStatus.VALIDATING\n",
      "Batch 6 has been sent\n",
      "4 jobs available for haimeng@usc.edu\n",
      "JobStatus.VALIDATING\n",
      "Batch 7 has been sent\n",
      "3 jobs available for haimeng@usc.edu\n",
      "JobStatus.VALIDATING\n",
      "Batch 8 has been sent\n",
      "2 jobs available for haimeng@usc.edu\n",
      "JobStatus.VALIDATING\n",
      "Batch 9 has been sent\n",
      "{0: ['e009883c3a103e728b741783f67d8586a37c0de04447151aa9493d13b3e76518f135424c482d9be2ef02759194085c8dce0db926f392ef5caa5b66f2843025a3', '6013d962d29c10418d0d0035'], 1: ['e009883c3a103e728b741783f67d8586a37c0de04447151aa9493d13b3e76518f135424c482d9be2ef02759194085c8dce0db926f392ef5caa5b66f2843025a3', '6013d99e696e34c128c4f975'], 2: ['e009883c3a103e728b741783f67d8586a37c0de04447151aa9493d13b3e76518f135424c482d9be2ef02759194085c8dce0db926f392ef5caa5b66f2843025a3', '6013d9d99bf1696fc4bb44c0'], 3: ['e009883c3a103e728b741783f67d8586a37c0de04447151aa9493d13b3e76518f135424c482d9be2ef02759194085c8dce0db926f392ef5caa5b66f2843025a3', '6013da15c5b451688dabb958'], 4: ['21a7ae9539b78959e11dcc1383c5691767f36b13d5d8efa01e515b76714b796903c19a61537adf98583e1cb04e4ee2584c6ba5f632b9a16cb8ad80cc6ce90ba7', '6013da53d29c103bec0d0040'], 5: ['21a7ae9539b78959e11dcc1383c5691767f36b13d5d8efa01e515b76714b796903c19a61537adf98583e1cb04e4ee2584c6ba5f632b9a16cb8ad80cc6ce90ba7', '6013da94e07ede1abea0a775'], 6: ['316cca1ff42067b9901b6a9e90ca76496e76b4a73139954176c6fe31a45572fcd37089924cbe5c41edb96a9b4c0e92e44451ed350e2a7e45dc809d26cd752eed', '6013dad7ebbee32572b6908f'], 7: ['316cca1ff42067b9901b6a9e90ca76496e76b4a73139954176c6fe31a45572fcd37089924cbe5c41edb96a9b4c0e92e44451ed350e2a7e45dc809d26cd752eed', '6013db1a334256cb97dde336'], 8: ['316cca1ff42067b9901b6a9e90ca76496e76b4a73139954176c6fe31a45572fcd37089924cbe5c41edb96a9b4c0e92e44451ed350e2a7e45dc809d26cd752eed', '6013db563571290d2df52d36'], 9: ['316cca1ff42067b9901b6a9e90ca76496e76b4a73139954176c6fe31a45572fcd37089924cbe5c41edb96a9b4c0e92e44451ed350e2a7e45dc809d26cd752eed', '6013db97879b860ec90d268a']}\n"
     ]
    }
   ],
   "source": [
    "#start runs\n",
    "#generally we want to run all the batchFiles, but we can also choose to run only some of them:\n",
    "#todoFiles = [batchFiles[3]]\n",
    "jobsNotFound = list(set(range(0, len(batchFiles))) - jobsFound)\n",
    "\n",
    "# todoFiles = batchFiles[0::]\n",
    "# for runFiles in todoFiles:\n",
    "for n in jobsNotFound[0::]:\n",
    "    try:\n",
    "        runFiles = batchFiles[n]\n",
    "        token = availableToken()\n",
    "\n",
    "        allQasmList = [QuantumCircuit.from_qasm_file(file) for file in runFiles] #this needs to edited if the batch files also contain directory\n",
    "        allCircuits= assemble(allQasmList, backend, shots=8192)\n",
    "\n",
    "        job_current = backend.run(allCircuits)\n",
    "        print(job_current.status())\n",
    "\n",
    "        runId = job_current.job_id()\n",
    "    #     runTokens.append(token)\n",
    "    #     runIds.append(runId)\n",
    "        runDict[batchFiles.index(runFiles)] = [token, runId] #note that the index still refers to the original batchFiles\n",
    "\n",
    "        #as retrieve job is not working temporarily I will save job_current in a dictionary as well\n",
    "        jobDict[batchFiles.index(runFiles)] = job_current\n",
    "        print(f\"Batch {batchFiles.index(runFiles)} has been sent\")\n",
    "\n",
    "        exportJobInfo(token, runId, batchFiles[0], backend)\n",
    "    except:\n",
    "        pass\n",
    "\n",
    "print(runDict)"
   ]
  },
  {
   "cell_type": "code",
   "execution_count": 26,
   "metadata": {},
   "outputs": [
    {
     "data": {
      "text/plain": [
       "{0: ['e009883c3a103e728b741783f67d8586a37c0de04447151aa9493d13b3e76518f135424c482d9be2ef02759194085c8dce0db926f392ef5caa5b66f2843025a3',\n",
       "  '6013d962d29c10418d0d0035'],\n",
       " 1: ['e009883c3a103e728b741783f67d8586a37c0de04447151aa9493d13b3e76518f135424c482d9be2ef02759194085c8dce0db926f392ef5caa5b66f2843025a3',\n",
       "  '6013d99e696e34c128c4f975'],\n",
       " 2: ['e009883c3a103e728b741783f67d8586a37c0de04447151aa9493d13b3e76518f135424c482d9be2ef02759194085c8dce0db926f392ef5caa5b66f2843025a3',\n",
       "  '6013d9d99bf1696fc4bb44c0'],\n",
       " 3: ['e009883c3a103e728b741783f67d8586a37c0de04447151aa9493d13b3e76518f135424c482d9be2ef02759194085c8dce0db926f392ef5caa5b66f2843025a3',\n",
       "  '6013da15c5b451688dabb958'],\n",
       " 4: ['21a7ae9539b78959e11dcc1383c5691767f36b13d5d8efa01e515b76714b796903c19a61537adf98583e1cb04e4ee2584c6ba5f632b9a16cb8ad80cc6ce90ba7',\n",
       "  '6013da53d29c103bec0d0040'],\n",
       " 5: ['21a7ae9539b78959e11dcc1383c5691767f36b13d5d8efa01e515b76714b796903c19a61537adf98583e1cb04e4ee2584c6ba5f632b9a16cb8ad80cc6ce90ba7',\n",
       "  '6013da94e07ede1abea0a775'],\n",
       " 6: ['316cca1ff42067b9901b6a9e90ca76496e76b4a73139954176c6fe31a45572fcd37089924cbe5c41edb96a9b4c0e92e44451ed350e2a7e45dc809d26cd752eed',\n",
       "  '6013dad7ebbee32572b6908f'],\n",
       " 7: ['316cca1ff42067b9901b6a9e90ca76496e76b4a73139954176c6fe31a45572fcd37089924cbe5c41edb96a9b4c0e92e44451ed350e2a7e45dc809d26cd752eed',\n",
       "  '6013db1a334256cb97dde336'],\n",
       " 8: ['316cca1ff42067b9901b6a9e90ca76496e76b4a73139954176c6fe31a45572fcd37089924cbe5c41edb96a9b4c0e92e44451ed350e2a7e45dc809d26cd752eed',\n",
       "  '6013db563571290d2df52d36'],\n",
       " 9: ['316cca1ff42067b9901b6a9e90ca76496e76b4a73139954176c6fe31a45572fcd37089924cbe5c41edb96a9b4c0e92e44451ed350e2a7e45dc809d26cd752eed',\n",
       "  '6013db97879b860ec90d268a']}"
      ]
     },
     "execution_count": 26,
     "metadata": {},
     "output_type": "execute_result"
    }
   ],
   "source": [
    "runDict"
   ]
  },
  {
   "cell_type": "markdown",
   "metadata": {},
   "source": [
    "### Checking job status"
   ]
  },
  {
   "cell_type": "code",
   "execution_count": 27,
   "metadata": {},
   "outputs": [
    {
     "name": "stdout",
     "output_type": "stream",
     "text": [
      "|Batch| Q#  | Status\n",
      "| 000 | --- | DONE\n",
      "| 001 | --- | DONE\n",
      "| 002 | --- | DONE\n",
      "| 003 | --- | DONE\n",
      "| 004 | --- | DONE\n",
      "| 005 | --- | DONE\n",
      "| 006 | --- | DONE\n",
      "| 007 | --- | DONE\n",
      "| 008 | --- | DONE\n",
      "| 009 | --- | DONE\n",
      "10 jobs found: {0, 1, 2, 3, 4, 5, 6, 7, 8, 9}\n",
      "10 jobs done: {0, 1, 2, 3, 4, 5, 6, 7, 8, 9}\n"
     ]
    }
   ],
   "source": [
    "# import sleep\n",
    "jobsNotDone = list(set(runDict.keys()) - jobsDone)\n",
    "\n",
    "def loadToken(token):\n",
    "    global provider, backend\n",
    "    if(not IBMQ.active_account()):\n",
    "        IBMQ.load_account()\n",
    "    IBMQ.disable_account() \n",
    "    provider = IBMQ.enable_account(token) \n",
    "    backend = provider.backends.ibmq_santiago\n",
    "    return None\n",
    "\n",
    "print(\"|Batch| Q#  | Status\")\n",
    "for job in jobsNotDone:\n",
    "#     try:\n",
    "    [token, job_id] = runDict[job]\n",
    "    loadToken(token)\n",
    "\n",
    "    #get job from dictionary instead of retrieve job as that function is broken for now\n",
    "#         job_data = backend.retrieve_job(job_id)\n",
    "    #alternatively get job from the jobD|ict\n",
    "    if job in jobDict:\n",
    "        job_data = jobDict[job]\n",
    "    else:\n",
    "        job_data = backend.retrieve_job(job_id)\n",
    "    #print(f\"Batch {job} is {job_data.status()}\")\n",
    "\n",
    "    jobsFound.add(job)\n",
    "    qno = '---'\n",
    "    if str(job_data.status()) == 'JobStatus.QUEUED':\n",
    "        #print(f'queue number is {job_data.queue_info().position}')\n",
    "        qno = str(job_data.queue_info().position).zfill(3)\n",
    "\n",
    "    if str(job_data.status()) == 'JobStatus.DONE':\n",
    "        jobsDone.add(job)\n",
    "\n",
    "    st = str(job_data.status()).split('.')[1]\n",
    "    jno = str(job).zfill(3)\n",
    "    print(f'| {jno} | {qno} | {st}')\n",
    "#     except:\n",
    "#         pass\n",
    "\n",
    "print(f'{len(jobsFound)} jobs found: {jobsFound}')\n",
    "print(f'{len(jobsDone)} jobs done: {jobsDone}')\n",
    "# if some batches are showing network errors, run only those batches again\n",
    "# try, excess commands above force the loop to continue even when some batches show errors"
   ]
  },
  {
   "cell_type": "markdown",
   "metadata": {},
   "source": [
    "# Exporting Data (Run after jobs have completed)"
   ]
  },
  {
   "cell_type": "code",
   "execution_count": 28,
   "metadata": {},
   "outputs": [
    {
     "name": "stdout",
     "output_type": "stream",
     "text": [
      "../../../Circuits/ibmq_santiago/20210129/MeasMainqFree_Q1_XplusState_QS_ZminusState/MeasMainqFree_Q1_XplusState_QS_ZminusState_20210129_ibmq_santiago_numIdGates=0_obsY.qasm\n",
      "../../../Circuits/ibmq_santiago/20210129/MeasMainqFree_Q1_XplusState_QS_ZminusState\n"
     ]
    },
    {
     "data": {
      "text/plain": [
       "'../../../Data/raw/ibmq_santiago/20210129/MeasMainqFree_Q1_XplusState_QS_ZminusState/run1/MeasMainqFree_Q1_XplusState_QS_ZminusState_20210129_ibmq_santiago_numIdGates=0_obsY_6013db97879b860ec90d268a.txt'"
      ]
     },
     "execution_count": 28,
     "metadata": {},
     "output_type": "execute_result"
    }
   ],
   "source": [
    "filename = batchFiles[0][0]\n",
    "print(filename)\n",
    "print(os.path.dirname(filename))\n",
    "run=1\n",
    "os.path.dirname(filename).replace('/Circuits/', '/Data/raw/') + f'/run{run}/' + os.path.basename(filename).split('.qasm')[0] + f'_{job_id}.txt'\n"
   ]
  },
  {
   "cell_type": "code",
   "execution_count": 29,
   "metadata": {},
   "outputs": [],
   "source": [
    "resultRecords = '../../Data/records/results/'\n",
    "if not os.path.exists(resultRecords):\n",
    "        os.makedirs(resultRecords)\n",
    "\n",
    "#job results are returned a list of dictionaries and they will have the same order as the order of the files in that batch\n",
    "# filenames given here should also include the folder names as well\n",
    "def exportBatchJob(filenames, token, job_id):\n",
    "    loadToken(token)\n",
    "    #job_data = backend.retrieve_job(job_id)\n",
    "    if job in jobDict:\n",
    "        job_data = jobDict[job]\n",
    "        print('found token')\n",
    "    else:\n",
    "        job_data = backend.retrieve_job(job_id)\n",
    "    \n",
    "    with open(resultRecords + f'{job_id}_{token}_results.txt', 'w') as f:\n",
    "        f.write(str(job_data.result().to_dict()))\n",
    "    \n",
    "    for i in range(0, len(filenames)):\n",
    "        result = job_data.result().get_counts()[i]\n",
    "        exportResult(token, job_id, i, filenames[i], result)\n",
    "        \n",
    "        \n",
    "#results will be in the form of dictionary\n",
    "#filename here should also include the foldernames\n",
    "def exportResult(token, job_id, circNo, filename, result):\n",
    "#     print(filename)\n",
    "    directory = os.path.dirname(filename).replace('/Circuits/', '/Data/raw/')+ f'/run{run}/'\n",
    "    file = directory + os.path.basename(filename).split('.qasm')[0] + f'_{job_id}.txt'\n",
    "    if not os.path.exists(os.path.dirname(file)):\n",
    "        os.makedirs(os.path.dirname(file))\n",
    "        \n",
    "    \n",
    "    with open(file, 'w') as f:\n",
    "            f.write(\"usertoken,jobid,circuit_number\\n\")\n",
    "            f.write(f\"{token},{job_id},{circNo}\\n\")\n",
    "            [f.write( '\"'+str(key)+'\"' + ',' + str(value) + '\\n') for key, value in result.items()]\n",
    "    return None\n",
    "\n",
    "\n"
   ]
  },
  {
   "cell_type": "code",
   "execution_count": 30,
   "metadata": {},
   "outputs": [
    {
     "name": "stdout",
     "output_type": "stream",
     "text": [
      "found token\n",
      "job 0 has been exported\n",
      "found token\n",
      "job 1 has been exported\n",
      "found token\n",
      "job 2 has been exported\n",
      "found token\n",
      "job 3 has been exported\n",
      "found token\n",
      "job 4 has been exported\n",
      "found token\n",
      "job 5 has been exported\n",
      "found token\n",
      "job 6 has been exported\n",
      "found token\n",
      "job 7 has been exported\n",
      "2\n",
      "found token\n",
      "job 8 has been exported\n",
      "found token\n",
      "job 9 has been exported\n"
     ]
    }
   ],
   "source": [
    "# batchFilesFull = [ [ inputDir + f for f in batch] for batch in batchFiles] #this wont be necessary if the filename have dir\n",
    "for job in list(runDict.keys()):\n",
    "    [token, job_id] = runDict[job]\n",
    "    #print(runDict[job])\n",
    "    file = batchFiles[job][0]\n",
    "    directory = os.path.dirname(file.replace('/Circuits/', '/Data/raw/'))\n",
    "    if os.path.exists(directory):\n",
    "        exists = os.listdir(directory)\n",
    "        run = 1 + len(exists)\n",
    "        print(run)\n",
    "    else:\n",
    "        run =1\n",
    "    exportBatchJob(batchFiles[job], token, job_id)\n",
    "    print(f\"job {job} has been exported\")"
   ]
  },
  {
   "cell_type": "code",
   "execution_count": null,
   "metadata": {},
   "outputs": [],
   "source": []
  }
 ],
 "metadata": {
  "kernelspec": {
   "display_name": "Python 3",
   "language": "python",
   "name": "python3"
  },
  "language_info": {
   "codemirror_mode": {
    "name": "ipython",
    "version": 3
   },
   "file_extension": ".py",
   "mimetype": "text/x-python",
   "name": "python",
   "nbconvert_exporter": "python",
   "pygments_lexer": "ipython3",
   "version": "3.7.7"
  }
 },
 "nbformat": 4,
 "nbformat_minor": 4
}
