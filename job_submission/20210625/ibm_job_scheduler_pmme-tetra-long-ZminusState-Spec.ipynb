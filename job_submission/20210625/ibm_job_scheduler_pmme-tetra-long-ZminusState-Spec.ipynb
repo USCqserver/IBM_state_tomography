{
 "cells": [
  {
   "cell_type": "markdown",
   "metadata": {},
   "source": [
    "# Pre-Run Setup"
   ]
  },
  {
   "cell_type": "markdown",
   "metadata": {},
   "source": [
    "### Import Libraries"
   ]
  },
  {
   "cell_type": "code",
   "execution_count": 1,
   "metadata": {},
   "outputs": [
    {
     "name": "stderr",
     "output_type": "stream",
     "text": [
      "/home/haimeng/anaconda3/envs/IBM_scheduler/lib/python3.7/site-packages/qiskit/validation/fields/custom.py:76: DeprecationWarning: `np.float` is a deprecated alias for the builtin `float`. To silence this warning, use `float` by itself. Doing this will not modify any behavior and is safe. If you specifically wanted the numpy scalar type, use `np.float64` here.\n",
      "Deprecated in NumPy 1.20; for more details and guidance: https://numpy.org/devdocs/release/1.20.0-notes.html#deprecations\n",
      "  numpy.integer, numpy.float,\n",
      "/home/haimeng/anaconda3/envs/IBM_scheduler/lib/python3.7/site-packages/qiskit/quantum_info/operators/pauli.py:111: DeprecationWarning: `np.bool` is a deprecated alias for the builtin `bool`. To silence this warning, use `bool` by itself. Doing this will not modify any behavior and is safe. If you specifically wanted the numpy scalar type, use `np.bool_` here.\n",
      "Deprecated in NumPy 1.20; for more details and guidance: https://numpy.org/devdocs/release/1.20.0-notes.html#deprecations\n",
      "  z = np.zeros(len(label), dtype=np.bool)\n",
      "/home/haimeng/anaconda3/envs/IBM_scheduler/lib/python3.7/site-packages/qiskit/quantum_info/operators/pauli.py:112: DeprecationWarning: `np.bool` is a deprecated alias for the builtin `bool`. To silence this warning, use `bool` by itself. Doing this will not modify any behavior and is safe. If you specifically wanted the numpy scalar type, use `np.bool_` here.\n",
      "Deprecated in NumPy 1.20; for more details and guidance: https://numpy.org/devdocs/release/1.20.0-notes.html#deprecations\n",
      "  x = np.zeros(len(label), dtype=np.bool)\n",
      "/home/haimeng/anaconda3/envs/IBM_scheduler/lib/python3.7/site-packages/qiskit/quantum_info/operators/pauli.py:34: DeprecationWarning: `np.bool` is a deprecated alias for the builtin `bool`. To silence this warning, use `bool` by itself. Doing this will not modify any behavior and is safe. If you specifically wanted the numpy scalar type, use `np.bool_` here.\n",
      "Deprecated in NumPy 1.20; for more details and guidance: https://numpy.org/devdocs/release/1.20.0-notes.html#deprecations\n",
      "  arr = np.asarray(arr).astype(np.bool)\n",
      "/home/haimeng/anaconda3/envs/IBM_scheduler/lib/python3.7/site-packages/qiskit/quantum_info/operators/pauli.py:34: DeprecationWarning: `np.bool` is a deprecated alias for the builtin `bool`. To silence this warning, use `bool` by itself. Doing this will not modify any behavior and is safe. If you specifically wanted the numpy scalar type, use `np.bool_` here.\n",
      "Deprecated in NumPy 1.20; for more details and guidance: https://numpy.org/devdocs/release/1.20.0-notes.html#deprecations\n",
      "  arr = np.asarray(arr).astype(np.bool)\n",
      "/home/haimeng/anaconda3/envs/IBM_scheduler/lib/python3.7/site-packages/qiskit/quantum_info/operators/pauli.py:111: DeprecationWarning: `np.bool` is a deprecated alias for the builtin `bool`. To silence this warning, use `bool` by itself. Doing this will not modify any behavior and is safe. If you specifically wanted the numpy scalar type, use `np.bool_` here.\n",
      "Deprecated in NumPy 1.20; for more details and guidance: https://numpy.org/devdocs/release/1.20.0-notes.html#deprecations\n",
      "  z = np.zeros(len(label), dtype=np.bool)\n",
      "/home/haimeng/anaconda3/envs/IBM_scheduler/lib/python3.7/site-packages/qiskit/quantum_info/operators/pauli.py:112: DeprecationWarning: `np.bool` is a deprecated alias for the builtin `bool`. To silence this warning, use `bool` by itself. Doing this will not modify any behavior and is safe. If you specifically wanted the numpy scalar type, use `np.bool_` here.\n",
      "Deprecated in NumPy 1.20; for more details and guidance: https://numpy.org/devdocs/release/1.20.0-notes.html#deprecations\n",
      "  x = np.zeros(len(label), dtype=np.bool)\n",
      "/home/haimeng/anaconda3/envs/IBM_scheduler/lib/python3.7/site-packages/qiskit/quantum_info/operators/pauli.py:34: DeprecationWarning: `np.bool` is a deprecated alias for the builtin `bool`. To silence this warning, use `bool` by itself. Doing this will not modify any behavior and is safe. If you specifically wanted the numpy scalar type, use `np.bool_` here.\n",
      "Deprecated in NumPy 1.20; for more details and guidance: https://numpy.org/devdocs/release/1.20.0-notes.html#deprecations\n",
      "  arr = np.asarray(arr).astype(np.bool)\n",
      "/home/haimeng/anaconda3/envs/IBM_scheduler/lib/python3.7/site-packages/qiskit/quantum_info/operators/pauli.py:34: DeprecationWarning: `np.bool` is a deprecated alias for the builtin `bool`. To silence this warning, use `bool` by itself. Doing this will not modify any behavior and is safe. If you specifically wanted the numpy scalar type, use `np.bool_` here.\n",
      "Deprecated in NumPy 1.20; for more details and guidance: https://numpy.org/devdocs/release/1.20.0-notes.html#deprecations\n",
      "  arr = np.asarray(arr).astype(np.bool)\n",
      "/home/haimeng/anaconda3/envs/IBM_scheduler/lib/python3.7/site-packages/qiskit/quantum_info/operators/pauli.py:111: DeprecationWarning: `np.bool` is a deprecated alias for the builtin `bool`. To silence this warning, use `bool` by itself. Doing this will not modify any behavior and is safe. If you specifically wanted the numpy scalar type, use `np.bool_` here.\n",
      "Deprecated in NumPy 1.20; for more details and guidance: https://numpy.org/devdocs/release/1.20.0-notes.html#deprecations\n",
      "  z = np.zeros(len(label), dtype=np.bool)\n",
      "/home/haimeng/anaconda3/envs/IBM_scheduler/lib/python3.7/site-packages/qiskit/quantum_info/operators/pauli.py:112: DeprecationWarning: `np.bool` is a deprecated alias for the builtin `bool`. To silence this warning, use `bool` by itself. Doing this will not modify any behavior and is safe. If you specifically wanted the numpy scalar type, use `np.bool_` here.\n",
      "Deprecated in NumPy 1.20; for more details and guidance: https://numpy.org/devdocs/release/1.20.0-notes.html#deprecations\n",
      "  x = np.zeros(len(label), dtype=np.bool)\n",
      "/home/haimeng/anaconda3/envs/IBM_scheduler/lib/python3.7/site-packages/qiskit/quantum_info/operators/pauli.py:34: DeprecationWarning: `np.bool` is a deprecated alias for the builtin `bool`. To silence this warning, use `bool` by itself. Doing this will not modify any behavior and is safe. If you specifically wanted the numpy scalar type, use `np.bool_` here.\n",
      "Deprecated in NumPy 1.20; for more details and guidance: https://numpy.org/devdocs/release/1.20.0-notes.html#deprecations\n",
      "  arr = np.asarray(arr).astype(np.bool)\n",
      "/home/haimeng/anaconda3/envs/IBM_scheduler/lib/python3.7/site-packages/qiskit/quantum_info/operators/pauli.py:34: DeprecationWarning: `np.bool` is a deprecated alias for the builtin `bool`. To silence this warning, use `bool` by itself. Doing this will not modify any behavior and is safe. If you specifically wanted the numpy scalar type, use `np.bool_` here.\n",
      "Deprecated in NumPy 1.20; for more details and guidance: https://numpy.org/devdocs/release/1.20.0-notes.html#deprecations\n",
      "  arr = np.asarray(arr).astype(np.bool)\n",
      "/home/haimeng/anaconda3/envs/IBM_scheduler/lib/python3.7/site-packages/qiskit/quantum_info/operators/pauli.py:111: DeprecationWarning: `np.bool` is a deprecated alias for the builtin `bool`. To silence this warning, use `bool` by itself. Doing this will not modify any behavior and is safe. If you specifically wanted the numpy scalar type, use `np.bool_` here.\n",
      "Deprecated in NumPy 1.20; for more details and guidance: https://numpy.org/devdocs/release/1.20.0-notes.html#deprecations\n",
      "  z = np.zeros(len(label), dtype=np.bool)\n",
      "/home/haimeng/anaconda3/envs/IBM_scheduler/lib/python3.7/site-packages/qiskit/quantum_info/operators/pauli.py:112: DeprecationWarning: `np.bool` is a deprecated alias for the builtin `bool`. To silence this warning, use `bool` by itself. Doing this will not modify any behavior and is safe. If you specifically wanted the numpy scalar type, use `np.bool_` here.\n",
      "Deprecated in NumPy 1.20; for more details and guidance: https://numpy.org/devdocs/release/1.20.0-notes.html#deprecations\n",
      "  x = np.zeros(len(label), dtype=np.bool)\n",
      "/home/haimeng/anaconda3/envs/IBM_scheduler/lib/python3.7/site-packages/qiskit/quantum_info/operators/pauli.py:34: DeprecationWarning: `np.bool` is a deprecated alias for the builtin `bool`. To silence this warning, use `bool` by itself. Doing this will not modify any behavior and is safe. If you specifically wanted the numpy scalar type, use `np.bool_` here.\n",
      "Deprecated in NumPy 1.20; for more details and guidance: https://numpy.org/devdocs/release/1.20.0-notes.html#deprecations\n",
      "  arr = np.asarray(arr).astype(np.bool)\n",
      "/home/haimeng/anaconda3/envs/IBM_scheduler/lib/python3.7/site-packages/qiskit/quantum_info/operators/pauli.py:34: DeprecationWarning: `np.bool` is a deprecated alias for the builtin `bool`. To silence this warning, use `bool` by itself. Doing this will not modify any behavior and is safe. If you specifically wanted the numpy scalar type, use `np.bool_` here.\n",
      "Deprecated in NumPy 1.20; for more details and guidance: https://numpy.org/devdocs/release/1.20.0-notes.html#deprecations\n",
      "  arr = np.asarray(arr).astype(np.bool)\n"
     ]
    }
   ],
   "source": [
    "from qiskit import *\n",
    "import os\n",
    "import datetime\n",
    "import numpy as np\n",
    "from datetime import date\n",
    "#you have to load some account to start\n"
   ]
  },
  {
   "cell_type": "code",
   "execution_count": 2,
   "metadata": {},
   "outputs": [],
   "source": [
    "import random\n",
    "import os"
   ]
  },
  {
   "cell_type": "code",
   "execution_count": 3,
   "metadata": {},
   "outputs": [],
   "source": [
    "# IBMQ.disable_account() \n",
    "# IBMQ.disable_account()\n",
    "token0 = '316cca1ff42067b9901b6a9e90ca76496e76b4a73139954176c6fe31a45572fcd37089924cbe5c41edb96a9b4c0e92e44451ed350e2a7e45dc809d26cd752eed'\n",
    "provider = IBMQ.enable_account(token0)"
   ]
  },
  {
   "cell_type": "markdown",
   "metadata": {},
   "source": [
    "### Specify the files that need to be run \n",
    "The old setup works with only one folder."
   ]
  },
  {
   "cell_type": "code",
   "execution_count": 4,
   "metadata": {},
   "outputs": [],
   "source": [
    "def shuffle_qasms(qasmlist):\n",
    "    def get_time(filename):\n",
    "        idgate = filename.split('/')[-1].split('_')[8].split('=')[-1]\n",
    "        return idgate\n",
    "    print(get_time(qasmlist[0]))\n",
    "    times = list(set([get_time(x) for x in qasmlist])) #remove duplicates\n",
    "    times.sort()\n",
    "    print('# of time instances=%d'%(len(times)))\n",
    "    random.shuffle(times) #randomize the timesteps\n",
    "    print(times)\n",
    "    sorted_qasm_list = []\n",
    "    for time in times:\n",
    "        sorted_qasm_list += [f for f in qasmlist if get_time(f) == time]\n",
    "    return sorted_qasm_list"
   ]
  },
  {
   "cell_type": "code",
   "execution_count": 5,
   "metadata": {},
   "outputs": [],
   "source": [
    "import glob\n",
    "from datetime import date\n",
    "circuitPath = r\"../../../Circuits\"\n",
    "device = \"ibmq_athens\"\n",
    "datestr = \"20210625\"\n",
    "runtypes = [f.name for f in os.scandir(circuitPath + '/' + device + '/' + datestr) if f.is_dir() and '_Zminus' in f.name and 'Long' in f.name and 'Spec' in f.name]\n",
    "batchFiles = []\n",
    "\n",
    "\n",
    "# TetraStates = ['tetra%d'%(i) for i in range(4)]\n",
    "# TetraStates.append('randomState')\n",
    "PrepStates = ['XplusState','XminusState','tetra0','YplusState','YminusState']\n",
    "runtype = [item  for i in range(5) for item in runtypes if item.split('_')[2]==PrepStates[i] ]\n",
    "runtypes_ordered = sorted(runtype,key=lambda t:t.split('_')[3],reverse=True)"
   ]
  },
  {
   "cell_type": "code",
   "execution_count": 6,
   "metadata": {},
   "outputs": [
    {
     "data": {
      "text/plain": [
       "['SpecMeasMainqFreeLong_Q0_tetra0_QS4_ZminusState',\n",
       " 'SpecMeasMainqFreeLong_Q0_tetra0_QS3_ZminusState',\n",
       " 'SpecMeasMainqFreeLong_Q0_tetra0_QS2_ZminusState',\n",
       " 'SpecMeasMainqFreeLong_Q0_tetra0_QS1_ZminusState',\n",
       " 'SpecMeasMainqFreeLong_Q0_tetra0_QS0_ZminusState']"
      ]
     },
     "execution_count": 6,
     "metadata": {},
     "output_type": "execute_result"
    }
   ],
   "source": [
    "runtypes_ordered"
   ]
  },
  {
   "cell_type": "code",
   "execution_count": 7,
   "metadata": {
    "pycharm": {
     "is_executing": false
    }
   },
   "outputs": [
    {
     "name": "stdout",
     "output_type": "stream",
     "text": [
      "72\n",
      "../../../Circuits/ibmq_athens/20210625/SpecMeasMainqFreeLong_Q0_tetra0_QS4_ZminusState/SpecMeasMainqFreeLong_Q0_tetra0_QS4_ZminusState_20210625_ibmq_athens_numIdGates=0_obsY.qasm\n",
      "0\n",
      "# of time instances=24\n",
      "['2736', '432', '1440', '1728', '144', '3024', '2304', '720', '1584', '3168', '3312', '2592', '2016', '0', '1296', '576', '1152', '2880', '2448', '1872', '864', '288', '2160', '1008']\n",
      "74\n",
      "72\n",
      "../../../Circuits/ibmq_athens/20210625/SpecMeasMainqFreeLong_Q0_tetra0_QS3_ZminusState/SpecMeasMainqFreeLong_Q0_tetra0_QS3_ZminusState_20210625_ibmq_athens_numIdGates=0_obsZ.qasm\n",
      "0\n",
      "# of time instances=24\n",
      "['2736', '720', '1296', '1872', '1440', '144', '432', '3168', '2448', '2304', '2592', '1008', '1584', '3312', '288', '864', '2016', '3024', '1728', '0', '576', '2160', '2880', '1152']\n",
      "74\n",
      "72\n",
      "../../../Circuits/ibmq_athens/20210625/SpecMeasMainqFreeLong_Q0_tetra0_QS2_ZminusState/SpecMeasMainqFreeLong_Q0_tetra0_QS2_ZminusState_20210625_ibmq_athens_numIdGates=0_obsZ.qasm\n",
      "0\n",
      "# of time instances=24\n",
      "['576', '1152', '3312', '2448', '3024', '432', '144', '1440', '1728', '864', '720', '2736', '0', '2016', '2160', '2592', '3168', '1872', '1584', '1008', '1296', '2304', '288', '2880']\n",
      "74\n",
      "72\n",
      "../../../Circuits/ibmq_athens/20210625/SpecMeasMainqFreeLong_Q0_tetra0_QS1_ZminusState/SpecMeasMainqFreeLong_Q0_tetra0_QS1_ZminusState_20210625_ibmq_athens_numIdGates=0_obsY.qasm\n",
      "0\n",
      "# of time instances=24\n",
      "['3024', '576', '2160', '2736', '720', '2016', '1008', '2880', '1728', '1440', '1296', '0', '144', '2304', '1584', '3312', '432', '2592', '1152', '3168', '2448', '288', '864', '1872']\n",
      "74\n",
      "72\n",
      "../../../Circuits/ibmq_athens/20210625/SpecMeasMainqFreeLong_Q0_tetra0_QS0_ZminusState/SpecMeasMainqFreeLong_Q0_tetra0_QS0_ZminusState_20210625_ibmq_athens_numIdGates=0_obsX.qasm\n",
      "0\n",
      "# of time instances=24\n",
      "['3168', '1152', '1440', '720', '1008', '432', '2448', '1872', '2592', '3024', '3312', '1584', '2736', '2304', '2016', '1728', '864', '144', '2160', '1296', '2880', '0', '288', '576']\n",
      "74\n"
     ]
    }
   ],
   "source": [
    "for runtype in runtypes_ordered:\n",
    "    qasmpath = circuitPath + '/' + device + '/'+ datestr + '/' + runtype + '/'\n",
    "    qasmlist = glob.glob(qasmpath + '%s*.qasm'%(runtype.split('_')[0]))\n",
    "    # sort by id gates\n",
    "    qasmlist.sort(key=lambda x: int(x.split('/')[-1].split('_')[8].split('=')[-1]))\n",
    "    print(len(qasmlist))\n",
    "    f=qasmlist[0]\n",
    "    print(f)\n",
    "    QuantumCircuit().from_qasm_file(f).draw(output='mpl')\n",
    "    sorted_qasm_list = shuffle_qasms(qasmlist)\n",
    "    # add measurement error mitigation\n",
    "    meas_qasm = glob.glob(qasmpath + '%s*.qasm'%('MeasError'))\n",
    "    sorted_qasm_list += meas_qasm\n",
    "    print(len(sorted_qasm_list))\n",
    "    batchFiles += [sorted_qasm_list]"
   ]
  },
  {
   "cell_type": "code",
   "execution_count": 8,
   "metadata": {},
   "outputs": [
    {
     "name": "stdout",
     "output_type": "stream",
     "text": [
      "../../../Circuits/ibmq_athens/20210625/SpecMeasMainqFreeLong_Q0_tetra0_QS4_ZminusState/SpecMeasMainqFreeLong_Q0_tetra0_QS4_ZminusState_20210625_ibmq_athens_numIdGates=2736_obsY.qasm\n",
      "../../../Circuits/ibmq_athens/20210625/SpecMeasMainqFreeLong_Q0_tetra0_QS3_ZminusState/SpecMeasMainqFreeLong_Q0_tetra0_QS3_ZminusState_20210625_ibmq_athens_numIdGates=2736_obsY.qasm\n",
      "../../../Circuits/ibmq_athens/20210625/SpecMeasMainqFreeLong_Q0_tetra0_QS2_ZminusState/SpecMeasMainqFreeLong_Q0_tetra0_QS2_ZminusState_20210625_ibmq_athens_numIdGates=576_obsX.qasm\n",
      "../../../Circuits/ibmq_athens/20210625/SpecMeasMainqFreeLong_Q0_tetra0_QS1_ZminusState/SpecMeasMainqFreeLong_Q0_tetra0_QS1_ZminusState_20210625_ibmq_athens_numIdGates=3024_obsY.qasm\n",
      "../../../Circuits/ibmq_athens/20210625/SpecMeasMainqFreeLong_Q0_tetra0_QS0_ZminusState/SpecMeasMainqFreeLong_Q0_tetra0_QS0_ZminusState_20210625_ibmq_athens_numIdGates=3168_obsX.qasm\n"
     ]
    }
   ],
   "source": [
    "for i in range(5):\n",
    "    print(batchFiles[i][0])"
   ]
  },
  {
   "cell_type": "code",
   "execution_count": 13,
   "metadata": {},
   "outputs": [
    {
     "name": "stdout",
     "output_type": "stream",
     "text": [
      "../../../Circuits/ibmq_athens/20210625/SpecMeasMainqFreeLong_Q0_tetra0_QS0_ZminusState/SpecMeasMainqFreeLong_Q0_tetra0_QS0_ZminusState_20210625_ibmq_athens_numIdGates=0_obsX.qasm\n"
     ]
    },
    {
     "data": {
      "image/png": "[encoded data removed]",
      "text/plain": [
       "<Figure size 599.592x385.28 with 1 Axes>"
      ]
     },
     "execution_count": 13,
     "metadata": {},
     "output_type": "execute_result"
    }
   ],
   "source": [
    "runtype = runtypes_ordered[4]\n",
    "qasmpath = circuitPath + '/' + device + '/'+ datestr + '/' + runtype + '/'\n",
    "qasmlist = glob.glob(qasmpath + '%s*.qasm'%(runtype.split('_')[0]))\n",
    "# sort by id gates\n",
    "qasmlist.sort(key=lambda x: int(x.split('/')[-1].split('_')[8].split('=')[-1]))\n",
    "f=qasmlist[0]\n",
    "print(f)\n",
    "QuantumCircuit().from_qasm_file(f).draw(output='mpl')"
   ]
  },
  {
   "cell_type": "code",
   "execution_count": 14,
   "metadata": {},
   "outputs": [
    {
     "name": "stdout",
     "output_type": "stream",
     "text": [
      "tetra0\n",
      "tetra0\n",
      "tetra0\n",
      "tetra0\n",
      "tetra0\n"
     ]
    }
   ],
   "source": [
    "for i in range(5):\n",
    "    print(batchFiles[i][0].split('/')[-1].split('_')[2])"
   ]
  },
  {
   "cell_type": "code",
   "execution_count": 15,
   "metadata": {
    "pycharm": {
     "is_executing": false,
     "name": "#%%\n"
    }
   },
   "outputs": [],
   "source": [
    "tokens = {'haimeng@usc.edu':'316cca1ff42067b9901b6a9e90ca76496e76b4a73139954176c6fe31a45572fcd37089924cbe5c41edb96a9b4c0e92e44451ed350e2a7e45dc809d26cd752eed',\n",
    "          'pokharel@usc.edu' : '21acf454868c89a86938ffcb6b17cc1236f783c6e340937ab3205598608408623893094770f403dd95ba758d9864ef2135eda8f381804787e15e8ab2aedd3ba3',\n",
    "          'zhanghaimeng1994@gmail.com':'3513ac2a5100793f7e44bf520ad54b2d7bb68da03cd0f410a3bea14853644e1841de6ce86fbee2a750f814f032584d002f601fe25360b446f81339ba3a957eed',\n",
    "          'theireasychair@gmail.com':'c59327488ff0575f9fcafd3f8d8ad627a1574fcf130508ac0314f08af78afc5cc5787acd7527140cb8aeacceaf4eaf82960785df5636991287d4f086db3b7229',\n",
    "          'theireasychair@icloud.com':'e009883c3a103e728b741783f67d8586a37c0de04447151aa9493d13b3e76518f135424c482d9be2ef02759194085c8dce0db926f392ef5caa5b66f2843025a3',\n",
    "          'jinweixu@stanford.edu':'21a7ae9539b78959e11dcc1383c5691767f36b13d5d8efa01e515b76714b796903c19a61537adf98583e1cb04e4ee2584c6ba5f632b9a16cb8ad80cc6ce90ba7'}"
   ]
  },
  {
   "cell_type": "markdown",
   "metadata": {},
   "source": [
    "### Specify API and Backend"
   ]
  },
  {
   "cell_type": "markdown",
   "metadata": {},
   "source": [
    "This script checks for how many jobs are available per token."
   ]
  },
  {
   "cell_type": "code",
   "execution_count": 16,
   "metadata": {},
   "outputs": [
    {
     "name": "stdout",
     "output_type": "stream",
     "text": [
      "5 jobs available for haimeng@usc.edu\n",
      "4 jobs available for pokharel@usc.edu\n",
      "5 jobs available for zhanghaimeng1994@gmail.com\n",
      "5 jobs available for theireasychair@gmail.com\n",
      "5 jobs available for theireasychair@icloud.com\n",
      "1 jobs available for jinweixu@stanford.edu\n"
     ]
    }
   ],
   "source": [
    "#write the email address corresponding to each API, this will help when these APIs expire\n",
    "apiDict = tokens\n",
    "apiInv =dict(map(reversed, apiDict.items()))\n",
    "apitokens = list(apiDict.values())\n",
    "\n",
    "\n",
    "for token in apitokens:\n",
    "    IBMQ.disable_account() #Start with no account loaded\n",
    "    provider = IBMQ.enable_account(token) #Some account must be loaded before we start\n",
    "    backend = provider.backends.ibmq_athens\n",
    "    available_jobs = backend.job_limit().maximum_jobs - backend.job_limit().active_jobs\n",
    "    print(f\"{available_jobs} jobs available for {apiInv[token]}\")\n",
    "\n"
   ]
  },
  {
   "cell_type": "code",
   "execution_count": 17,
   "metadata": {},
   "outputs": [
    {
     "name": "stdout",
     "output_type": "stream",
     "text": [
      "75 8192\n"
     ]
    }
   ],
   "source": [
    "backend.configuration() #max_experiments=75, max_shots=8192\n",
    "max_experiments=backend.configuration().max_experiments\n",
    "max_shots=backend.configuration().max_shots\n",
    "print(max_experiments,max_shots)"
   ]
  },
  {
   "cell_type": "markdown",
   "metadata": {},
   "source": [
    "## print backend info"
   ]
  },
  {
   "cell_type": "code",
   "execution_count": 18,
   "metadata": {},
   "outputs": [
    {
     "data": {
      "text/plain": [
       "qiskit.providers.models.backendproperties.BackendProperties"
      ]
     },
     "execution_count": 18,
     "metadata": {},
     "output_type": "execute_result"
    }
   ],
   "source": [
    "prop=backend.properties()\n",
    "type(prop)"
   ]
  },
  {
   "cell_type": "code",
   "execution_count": 19,
   "metadata": {},
   "outputs": [
    {
     "data": {
      "text/plain": [
       "{'T1': (7.638170814181626e-05, '2021-06-26T01:29:32Z'),\n",
       " 'T2': (0.00012750274620084817, '2021-06-25T04:09:19Z'),\n",
       " 'frequency': (5267216853.902746, '2021-06-26T01:52:57Z'),\n",
       " 'anharmonicity': (-332545044.12181485, '2021-06-26T01:52:57Z'),\n",
       " 'readout_error': (0.01200000000000001, '2021-06-25T04:05:09Z'),\n",
       " 'prob_meas0_prep1': (0.017199999999999993, '2021-06-25T04:05:09Z'),\n",
       " 'prob_meas1_prep0': (0.0068, '2021-06-25T04:05:09Z'),\n",
       " 'readout_length': (3.0222222222222225e-06, '2021-06-25T04:05:09Z')}"
      ]
     },
     "execution_count": 19,
     "metadata": {},
     "output_type": "execute_result"
    }
   ],
   "source": [
    "prop.qubit_property(1)"
   ]
  },
  {
   "cell_type": "markdown",
   "metadata": {},
   "source": [
    "# Run the circuits"
   ]
  },
  {
   "cell_type": "markdown",
   "metadata": {},
   "source": [
    "### Function to import backend and token information during the runs"
   ]
  },
  {
   "cell_type": "code",
   "execution_count": 20,
   "metadata": {},
   "outputs": [
    {
     "name": "stdout",
     "output_type": "stream",
     "text": [
      "/home/haimeng/LocalProjects/IBM-PMME/IBM_data/job_submission/20210625\n"
     ]
    }
   ],
   "source": [
    "# print current working directory\n",
    "print(os.getcwd())"
   ]
  },
  {
   "cell_type": "code",
   "execution_count": 21,
   "metadata": {},
   "outputs": [],
   "source": [
    "import csv\n",
    "import os\n",
    "\n",
    "runRecords = '../../../Data/records/info/' #information about each job is stored in this folder\n",
    "\n",
    "def exportJobInfo(usertoken,jobid,filenames,backend):\n",
    "    global runRecords\n",
    "    now = datetime.datetime.now()\n",
    "    qindex = int(filenames[0].split('/')[-1].split('_')[1][-1])\n",
    "    with open(runRecords+jobid + '_' +usertoken+'.csv','w+') as f:\n",
    "        writer = csv.writer(f,delimiter=',')\n",
    "        writer.writerow(['token',token])\n",
    "        writer.writerow(['jobid',jobid])\n",
    "        writer.writerow(['backend',backend.properties().backend_name])\n",
    "        writer.writerow(['qubit',qindex])\n",
    "        prop = backend.properties().qubit_property(qindex)\n",
    "        for key,value in prop.items():\n",
    "            writer.writerow([key,value])\n",
    "        writer.writerow(['circuits'])\n",
    "        for item in filenames:\n",
    "            writer.writerow([item])\n",
    "        # write time stamps\n",
    "        job = backend.retrieve_job(runId)\n",
    "        writer.writerow(['job_creation',job._time_per_step['CREATING']])\n",
    "        "
   ]
  },
  {
   "cell_type": "code",
   "execution_count": 22,
   "metadata": {},
   "outputs": [
    {
     "data": {
      "text/plain": [
       "'ibmq_athens'"
      ]
     },
     "execution_count": 22,
     "metadata": {},
     "output_type": "execute_result"
    }
   ],
   "source": [
    "backend_info = backend.properties().to_dict() \n",
    "backend_info['backend_name']"
   ]
  },
  {
   "cell_type": "markdown",
   "metadata": {},
   "source": [
    "### Function to check for available tokens"
   ]
  },
  {
   "cell_type": "code",
   "execution_count": 23,
   "metadata": {},
   "outputs": [
    {
     "name": "stdout",
     "output_type": "stream",
     "text": [
      "4 jobs available for pokharel@usc.edu\n"
     ]
    },
    {
     "data": {
      "text/plain": [
       "'21acf454868c89a86938ffcb6b17cc1236f783c6e340937ab3205598608408623893094770f403dd95ba758d9864ef2135eda8f381804787e15e8ab2aedd3ba3'"
      ]
     },
     "execution_count": 23,
     "metadata": {},
     "output_type": "execute_result"
    }
   ],
   "source": [
    "\n",
    " \n",
    "#Select a available token to send the run to\n",
    "#With the current setup, loading and unloading a token takes sometime\n",
    "#sequentially check each token for availability will increase loadtime for tokens that are near the end\n",
    "#so given a list of tokens, everytime a job is sent to a token, that token will be sent to the end\n",
    "def availableToken():\n",
    "    global provider, backend, apitokens\n",
    "    token = apitokens[0]\n",
    "    available_jobs = backend.job_limit().maximum_jobs - backend.job_limit().active_jobs\n",
    "    if available_jobs > 1:\n",
    "        print(f'{available_jobs} jobs available for {apiInv[token]}')\n",
    "        return token\n",
    "\n",
    "    #if the first token has no availability then we will continue below\n",
    "    apitokens.append(apitokens.pop(0))\n",
    "    for token in apitokens:\n",
    "        IBMQ.disable_account() \n",
    "        provider = IBMQ.enable_account(token) \n",
    "        backend = provider.backends.ibmq_athens\n",
    "        available_jobs = backend.job_limit().maximum_jobs - backend.job_limit().active_jobs\n",
    "        if available_jobs > 1:\n",
    "            print(f'{available_jobs} jobs available for {apiInv[token]}')\n",
    "            apitokens.insert(0, apitokens.pop(apitokens.index(token)))\n",
    "            return token\n",
    "\n",
    "availableToken()   \n",
    "      "
   ]
  },
  {
   "cell_type": "markdown",
   "metadata": {},
   "source": [
    "### Actually doing the runs"
   ]
  },
  {
   "cell_type": "code",
   "execution_count": 24,
   "metadata": {},
   "outputs": [],
   "source": [
    "#start with empty containers\n",
    "#dont run this block if you already have a list of runs you want to continue\n",
    "\n",
    "runDict = {} #matches each batch to the job token\n",
    "jobDict = {} #matches each batch to the entire job object\n",
    "jobsFound = set([]) #status is updated when checked\n",
    "jobsDone = set([])"
   ]
  },
  {
   "cell_type": "code",
   "execution_count": 25,
   "metadata": {},
   "outputs": [
    {
     "data": {
      "text/plain": [
       "'ibmq_athens'"
      ]
     },
     "execution_count": 25,
     "metadata": {},
     "output_type": "execute_result"
    }
   ],
   "source": [
    "backend.properties().backend_name"
   ]
  },
  {
   "cell_type": "code",
   "execution_count": 26,
   "metadata": {},
   "outputs": [
    {
     "name": "stdout",
     "output_type": "stream",
     "text": [
      "4 jobs available for pokharel@usc.edu\n",
      "JobStatus.VALIDATING\n",
      "Batch 0 has been sent\n",
      "3 jobs available for pokharel@usc.edu\n",
      "JobStatus.VALIDATING\n",
      "Batch 1 has been sent\n",
      "2 jobs available for pokharel@usc.edu\n",
      "JobStatus.VALIDATING\n",
      "Batch 2 has been sent\n",
      "5 jobs available for zhanghaimeng1994@gmail.com\n",
      "JobStatus.VALIDATING\n",
      "Batch 3 has been sent\n",
      "4 jobs available for zhanghaimeng1994@gmail.com\n",
      "JobStatus.VALIDATING\n",
      "Batch 4 has been sent\n",
      "{0: ['21acf454868c89a86938ffcb6b17cc1236f783c6e340937ab3205598608408623893094770f403dd95ba758d9864ef2135eda8f381804787e15e8ab2aedd3ba3', '60d68d88a1965212a0223d57'], 1: ['21acf454868c89a86938ffcb6b17cc1236f783c6e340937ab3205598608408623893094770f403dd95ba758d9864ef2135eda8f381804787e15e8ab2aedd3ba3', '60d68deaa2cdafc1d815961a'], 2: ['21acf454868c89a86938ffcb6b17cc1236f783c6e340937ab3205598608408623893094770f403dd95ba758d9864ef2135eda8f381804787e15e8ab2aedd3ba3', '60d68e4c5e60c60ee4ad5754'], 3: ['3513ac2a5100793f7e44bf520ad54b2d7bb68da03cd0f410a3bea14853644e1841de6ce86fbee2a750f814f032584d002f601fe25360b446f81339ba3a957eed', '60d68eafd657d6abc639e0ef'], 4: ['3513ac2a5100793f7e44bf520ad54b2d7bb68da03cd0f410a3bea14853644e1841de6ce86fbee2a750f814f032584d002f601fe25360b446f81339ba3a957eed', '60d68f13d2f1e4d67f255ddb']}\n"
     ]
    }
   ],
   "source": [
    "#start runs\n",
    "#generally we want to run all the batchFiles, but we can also choose to run only some of them:\n",
    "#todoFiles = [batchFiles[3]]\n",
    "jobsNotFound = list(set(range(0, len(batchFiles))) - jobsFound)\n",
    "\n",
    "# todoFiles = batchFiles[0::]\n",
    "# for runFiles in todoFiles:\n",
    "for n in jobsNotFound[0::]:\n",
    "    \n",
    "    runFiles = batchFiles[n]\n",
    "    token = availableToken()\n",
    "\n",
    "    allQasmList = [QuantumCircuit.from_qasm_file(file) for file in runFiles] #this needs to edited if the batch files also contain directory\n",
    "    allCircuits= assemble(allQasmList, backend, shots=8192)\n",
    "\n",
    "    job_current = backend.run(allCircuits)\n",
    "    print(job_current.status())\n",
    "\n",
    "    runId = job_current.job_id()\n",
    "#     runTokens.append(token)\n",
    "#     runIds.append(runId)\n",
    "#         runDict[batchFiles.index(runFiles)] = [token, runId] #note that the index still refers to the original batchFiles\n",
    "    runDict[n] = [token, runId]\n",
    "    #as retrieve job is not working temporarily I will save job_current in a dictionary as well\n",
    "#     jobDict[batchFiles.index(runFiles)] = job_current\n",
    "    jobDict[n] = job_current\n",
    "    print(f\"Batch {batchFiles.index(runFiles)} has been sent\")\n",
    "\n",
    "    exportJobInfo(token, runId, batchFiles[0], backend)\n",
    "\n",
    "\n",
    "print(runDict)"
   ]
  },
  {
   "cell_type": "code",
   "execution_count": 27,
   "metadata": {},
   "outputs": [
    {
     "data": {
      "text/plain": [
       "{0: ['21acf454868c89a86938ffcb6b17cc1236f783c6e340937ab3205598608408623893094770f403dd95ba758d9864ef2135eda8f381804787e15e8ab2aedd3ba3',\n",
       "  '60d68d88a1965212a0223d57'],\n",
       " 1: ['21acf454868c89a86938ffcb6b17cc1236f783c6e340937ab3205598608408623893094770f403dd95ba758d9864ef2135eda8f381804787e15e8ab2aedd3ba3',\n",
       "  '60d68deaa2cdafc1d815961a'],\n",
       " 2: ['21acf454868c89a86938ffcb6b17cc1236f783c6e340937ab3205598608408623893094770f403dd95ba758d9864ef2135eda8f381804787e15e8ab2aedd3ba3',\n",
       "  '60d68e4c5e60c60ee4ad5754'],\n",
       " 3: ['3513ac2a5100793f7e44bf520ad54b2d7bb68da03cd0f410a3bea14853644e1841de6ce86fbee2a750f814f032584d002f601fe25360b446f81339ba3a957eed',\n",
       "  '60d68eafd657d6abc639e0ef'],\n",
       " 4: ['3513ac2a5100793f7e44bf520ad54b2d7bb68da03cd0f410a3bea14853644e1841de6ce86fbee2a750f814f032584d002f601fe25360b446f81339ba3a957eed',\n",
       "  '60d68f13d2f1e4d67f255ddb']}"
      ]
     },
     "execution_count": 27,
     "metadata": {},
     "output_type": "execute_result"
    }
   ],
   "source": [
    "runDict"
   ]
  },
  {
   "cell_type": "markdown",
   "metadata": {},
   "source": [
    "### Checking job status"
   ]
  },
  {
   "cell_type": "code",
   "execution_count": 32,
   "metadata": {},
   "outputs": [
    {
     "name": "stdout",
     "output_type": "stream",
     "text": [
      "|Batch| Q#  | Status\n",
      "| 004 | --- | DONE\n",
      "5 jobs found: {0, 1, 2, 3, 4}\n",
      "5 jobs done: {0, 1, 2, 3, 4}\n"
     ]
    }
   ],
   "source": [
    "# import sleep\n",
    "jobsNotDone = list(set(runDict.keys()) - jobsDone)\n",
    "\n",
    "def loadToken(token):\n",
    "    global provider, backend\n",
    "    if(not IBMQ.active_account()):\n",
    "        IBMQ.load_account()\n",
    "    IBMQ.disable_account() \n",
    "    provider = IBMQ.enable_account(token) \n",
    "    backend = provider.backends.ibmq_athens\n",
    "    return None\n",
    "\n",
    "print(\"|Batch| Q#  | Status\")\n",
    "for job in jobsNotDone:\n",
    "#     try:\n",
    "    [token, job_id] = runDict[job]\n",
    "    loadToken(token)\n",
    "\n",
    "    #get job from dictionary instead of retrieve job as that function is broken for now\n",
    "#         job_data = backend.retrieve_job(job_id)\n",
    "    #alternatively get job from the jobD|ict\n",
    "    if job in jobDict:\n",
    "        job_data = jobDict[job]\n",
    "    else:\n",
    "        job_data = backend.retrieve_job(job_id)\n",
    "    #print(f\"Batch {job} is {job_data.status()}\")\n",
    "\n",
    "    jobsFound.add(job)\n",
    "    qno = '---'\n",
    "    if str(job_data.status()) == 'JobStatus.QUEUED':\n",
    "        #print(f'queue number is {job_data.queue_info().position}')\n",
    "        qno = str(job_data.queue_info().position).zfill(3)\n",
    "\n",
    "    if str(job_data.status()) == 'JobStatus.DONE':\n",
    "        jobsDone.add(job)\n",
    "\n",
    "    st = str(job_data.status()).split('.')[1]\n",
    "    jno = str(job).zfill(3)\n",
    "    print(f'| {jno} | {qno} | {st}')\n",
    "#     except:\n",
    "#         pass\n",
    "\n",
    "print(f'{len(jobsFound)} jobs found: {jobsFound}')\n",
    "print(f'{len(jobsDone)} jobs done: {jobsDone}')\n",
    "# if some batches are showing network errors, run only those batches again\n",
    "# try, excess commands above force the loop to continue even when some batches show errors"
   ]
  },
  {
   "cell_type": "markdown",
   "metadata": {},
   "source": [
    "# Exporting Data (Run after jobs have completed)"
   ]
  },
  {
   "cell_type": "code",
   "execution_count": 33,
   "metadata": {},
   "outputs": [
    {
     "name": "stdout",
     "output_type": "stream",
     "text": [
      "../../../Circuits/ibmq_athens/20210625/SpecMeasMainqFreeLong_Q0_tetra0_QS4_ZminusState/MeasError_Mitigate_20210625_ibmq_athens_ZminusState_obsZ.qasm\n",
      "../../../Circuits/ibmq_athens/20210625/SpecMeasMainqFreeLong_Q0_tetra0_QS4_ZminusState\n"
     ]
    }
   ],
   "source": [
    "filename = batchFiles[0][-1]\n",
    "print(filename)\n",
    "print(os.path.dirname(filename))\n",
    "run=1\n"
   ]
  },
  {
   "cell_type": "code",
   "execution_count": 34,
   "metadata": {},
   "outputs": [
    {
     "data": {
      "text/plain": [
       "'../../../Circuits/ibmq_athens/20210625/SpecMeasMainqFreeLong_Q0_tetra0_QS4_ZminusState/MeasError_Mitigate_20210625_ibmq_athens_ZminusState_obsZ.qasm'"
      ]
     },
     "execution_count": 34,
     "metadata": {},
     "output_type": "execute_result"
    }
   ],
   "source": [
    "filename"
   ]
  },
  {
   "cell_type": "code",
   "execution_count": 35,
   "metadata": {},
   "outputs": [],
   "source": [
    "resultRecords = '../../Data/records/results/'\n",
    "if not os.path.exists(resultRecords):\n",
    "        os.makedirs(resultRecords)\n",
    "\n",
    "#job results are returned a list of dictionaries and they will have the same order as the order of the files in that batch\n",
    "# filenames given here should also include the folder names as well\n",
    "def exportBatchJob(filenames, token, job_id, index):\n",
    "    loadToken(token)\n",
    "    #job_data = backend.retrieve_job(job_id)\n",
    "    if job in jobDict:\n",
    "        job_data = jobDict[job]\n",
    "        print('found token')\n",
    "    else:\n",
    "        job_data = backend.retrieve_job(job_id)\n",
    "        \n",
    "    # write finish time\n",
    "    with open(runRecords+job_id + '_' +token+'.csv','a') as f:\n",
    "        writer = csv.writer(f,delimiter=',')\n",
    "        writer.writerow(['job_finish_time',job_data._time_per_step['COMPLETED']])\n",
    "        \n",
    "    with open(resultRecords + f'{job_id}_{token}_results.txt', 'w') as f:\n",
    "        f.write(str(job_data.result().to_dict()))\n",
    "    \n",
    "    for i in range(0, len(filenames)):\n",
    "        result = job_data.result().get_counts()[i]\n",
    "        exportResult(token, job_id, i, filenames[i], result,index)\n",
    "        \n",
    "        \n",
    "#results will be in the form of dictionary\n",
    "#filename here should also include the foldernames\n",
    "def exportResult(token, job_id, circNo, filename, result,index):\n",
    "#     print(filename)\n",
    "    directory = os.path.dirname(filename).replace('/Circuits/', '/Data/raw/')+'_%d'%(index)+ f'/run{run}/'\n",
    "    filename_new = os.path.basename(filename).split('.qasm')[0].split('_')\n",
    "    \n",
    "    if 'MeasMainqFree' in filename_new:\n",
    "        filename_new.insert(5,str(index))\n",
    "    file = directory + '_'.join(filename_new) + f'_{job_id}.txt'\n",
    "    if not os.path.exists(os.path.dirname(file)):\n",
    "        os.makedirs(os.path.dirname(file))\n",
    "        \n",
    "    \n",
    "    with open(file, 'w') as f:\n",
    "            f.write(\"usertoken,jobid,circuit_number\\n\")\n",
    "            f.write(f\"{token},{job_id},{circNo}\\n\")\n",
    "            [f.write( '\"'+str(key)+'\"' + ',' + str(value) + '\\n') for key, value in result.items()]\n",
    "    return None\n",
    "\n",
    "\n"
   ]
  },
  {
   "cell_type": "code",
   "execution_count": 36,
   "metadata": {},
   "outputs": [
    {
     "name": "stdout",
     "output_type": "stream",
     "text": [
      "found token\n",
      "job 0 has been exported\n",
      "found token\n",
      "job 1 has been exported\n",
      "found token\n",
      "job 2 has been exported\n",
      "found token\n",
      "job 3 has been exported\n",
      "found token\n",
      "job 4 has been exported\n"
     ]
    }
   ],
   "source": [
    "# batchFilesFull = [ [ inputDir + f for f in batch] for batch in batchFiles] #this wont be necessary if the filename have dir\n",
    "for job in list(runDict.keys()):\n",
    "    [token, job_id] = runDict[job]\n",
    "    #print(runDict[job])\n",
    "    file = batchFiles[job][0]\n",
    "    directory = os.path.dirname(file.replace('/Circuits/', '/Data/raw/'))\n",
    "    if os.path.exists(directory):\n",
    "        exists = os.listdir(directory)\n",
    "        run = 1 + len(exists)\n",
    "        print(run)\n",
    "    else:\n",
    "        run =1\n",
    "    exportBatchJob(batchFiles[job], token, job_id,index=job)\n",
    "    print(f\"job {job} has been exported\")"
   ]
  },
  {
   "cell_type": "code",
   "execution_count": null,
   "metadata": {},
   "outputs": [],
   "source": []
  }
 ],
 "metadata": {
  "kernelspec": {
   "display_name": "Python 3",
   "language": "python",
   "name": "python3"
  },
  "language_info": {
   "codemirror_mode": {
    "name": "ipython",
    "version": 3
   },
   "file_extension": ".py",
   "mimetype": "text/x-python",
   "name": "python",
   "nbconvert_exporter": "python",
   "pygments_lexer": "ipython3",
   "version": "3.7.7"
  }
 },
 "nbformat": 4,
 "nbformat_minor": 4
}
